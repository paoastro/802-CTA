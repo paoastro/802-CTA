{
 "cells": [
  {
   "cell_type": "markdown",
   "metadata": {},
   "source": [
    "<h1 style=\"color: #90409C\"><ins>COMPUTATIONAL THINKING ACTIVITY 1:</ins>\n",
    "    \n",
    "Visualizing Vectors and Unit Vectors</h1>"
   ]
  },
  {
   "cell_type": "markdown",
   "metadata": {},
   "source": [
    "<h4 style=\"color: #90409C\"><i>This notebook was authored by the 8.02 Course Team, Copyright 2023 MIT All Rights Reserved.</i></h4>\n",
    "\n",
    "<a name='section_1_0'></a>\n",
    "\n",
    "<h2 style=\"border:1px; border-style:solid; padding: 0.25em; color: #FFFFFF; background-color: #90409C\">CTA1.0 Libraries and Settings</h2>\n",
    "\n",
    "| [1.0 Libraries and Settings](#section_1_0) | [1.1 Overview](#section_1_1) | [1.2 Completing the Code](#section_1_2) | [1.3 Visualizations](#section_1_3) | [1.4 Additional Tasks](#section_1_4) |"
   ]
  },
  {
   "cell_type": "markdown",
   "metadata": {},
   "source": [
    "**<font color=\"red\">WARNING:** <b><font color=\"red\">If you are working on-line and close the tab you will loose your work! Remember to save your work from time to time by clicking on the cloud with the arrow pointing down. If you accidentally close the tab, you can load the notebook again and recover your work by clicking on the the cloud with the arrow pointing up.</font></b>"
   ]
  },
  {
   "cell_type": "markdown",
   "metadata": {},
   "source": [
    "**Importing Libraries:** Before beginning, run the cell below to import the relevant libraries for this notebook.\n"
   ]
  },
  {
   "cell_type": "code",
   "execution_count": 1,
   "metadata": {},
   "outputs": [
    {
     "data": {
      "text/html": [
       "<div id=\"glowscript\" class=\"glowscript\"></div>"
      ],
      "text/plain": [
       "<IPython.core.display.HTML object>"
      ]
     },
     "metadata": {},
     "output_type": "display_data"
    },
    {
     "data": {
      "application/javascript": [
       "if (typeof Jupyter !== \"undefined\") { window.__context = { glowscript_container: $(\"#glowscript\").removeAttr(\"id\")};}else{ element.textContent = ' ';}"
      ],
      "text/plain": [
       "<IPython.core.display.Javascript object>"
      ]
     },
     "metadata": {},
     "output_type": "display_data"
    }
   ],
   "source": [
    "#>>>RUN: CTA1.0-runcell01\n",
    "\n",
    "from vpython import *  #Here we're importing all the vpython package"
   ]
  },
  {
   "cell_type": "markdown",
   "metadata": {},
   "source": [
    "**Setting Default Figure Parameters:** The following code cell sets default values for figure parameters."
   ]
  },
  {
   "cell_type": "code",
   "execution_count": null,
   "metadata": {},
   "outputs": [],
   "source": [
    "#>>>RUN: CTA1.0-runcell02\n",
    "\n",
    "#set plot resolution\n",
    "%config InlineBackend.figure_format = 'retina'\n",
    "\n",
    "#set default figure parameters\n",
    "plt.rcParams['figure.figsize'] = (9,6)\n",
    "\n",
    "medium_size = 12\n",
    "large_size = 15\n",
    "\n",
    "plt.rc('font', size=medium_size)          # default text sizes\n",
    "plt.rc('xtick', labelsize=medium_size)    # xtick labels\n",
    "plt.rc('ytick', labelsize=medium_size)    # ytick labels\n",
    "plt.rc('legend', fontsize=medium_size)    # legend\n",
    "plt.rc('axes', titlesize=large_size)      # axes title\n",
    "plt.rc('axes', labelsize=large_size)      # x and y labels\n",
    "plt.rc('figure', titlesize=large_size)    # figure title"
   ]
  },
  {
   "cell_type": "markdown",
   "metadata": {},
   "source": [
    "<a name='section_1_1'></a>\n",
    "\n",
    "<h2 style=\"border:1px; border-style:solid; padding: 0.25em; color: #FFFFFF; background-color: #90409C\">CTA1.1 Overview</h2>  \n",
    "\n",
    "| [1.0 Libraries and Settings](#section_1_0) | [1.1 Overview](#section_1_1) | [1.2 Completing the Code](#section_1_2) | [1.3 Visualizations](#section_1_3) | [1.4 Additional Tasks](#section_1_4) |"
   ]
  },
  {
   "cell_type": "markdown",
   "metadata": {},
   "source": [
    "The code below guides you to write a function that has a 3D vector as argument \n",
    "\n",
    "$$\\vec{\\mathbf{V}} = (v_x,v_y,v_x).$$ \n",
    "\n",
    "It  returns the components of the relative unit vector \n",
    "\n",
    "$$\\hat{\\mathbf{u}} = (u_x,u_y,u_x) = \\frac{\\vec V}{|\\vec V|}.$$ "
   ]
  },
  {
   "cell_type": "markdown",
   "metadata": {},
   "source": [
    "<a name='section_1_2'></a>\n",
    "\n",
    "<h2 style=\"border:1px; border-style:solid; padding: 0.25em; color: #FFFFFF; background-color: #90409C\">CTA1.2 Completing the Code</h2>  \n",
    "\n",
    "| [1.0 Libraries and Settings](#section_1_0) | [1.1 Overview](#section_1_1) | [1.2 Completing the Code](#section_1_2) | [1.3 Visualizations](#section_1_3) | [1.4 Additional Tasks](#section_1_4) |"
   ]
  },
  {
   "cell_type": "markdown",
   "metadata": {},
   "source": [
    "The code below defines a function called `unit_vector` that takes a vector as input and returns the corresponding unit vector. The unit vector has a magnitude of 1 and points in the same direction as the original vector.\n",
    "\n",
    "The input vector is provided as a list `[v_x,v_y,v_z]`, where `v_x`, `v_y`, and `v_z` represent the x, y, and z components of the vector, respectively.\n",
    "\n",
    "The first step of the function is to calculate the magnitude of the input vector using the formula `sqrt(v_x^2 + v_y^2 + v_z^2)`.\n",
    "\n",
    "Next, the x, y, and z components of the unit vector are computed by dividing the x, y, and z components of the input vector by its magnitude. These values are then returned as a list `[u_x,u_y,u_z]`."
   ]
  },
  {
   "cell_type": "code",
   "execution_count": 2,
   "metadata": {},
   "outputs": [],
   "source": [
    "#>>>RUN: CTA1.2-runcell01\n",
    "\n",
    "def unit_vector(V):\n",
    "    \"\"\"The function takes the following  input:\n",
    "    V = [v_x,v_y,v_z], a list of the x,y & z components of a vector V of non-zero length \n",
    "    It returns [u_x,u_y,u_z], a list the x,y & z components of the unit vector in the direction of V.\"\"\"\n",
    "\n",
    "    #magnitude = FILL IN \n",
    "    magnitude = sqrt(V[0]**2 + V[1]**2 + V[2]**2)\n",
    "    \n",
    "    # Second: calculate the components of the unit vector\n",
    "    # Remember, the unit vector is given by a vector divided by its magnitude\n",
    "    \n",
    "    #u_x = FILL IN\n",
    "    #u_y = FILL IN\n",
    "    #u_z = FILL IN\n",
    "    \n",
    "    u_x = V[0]/magnitude\n",
    "    u_y = V[1]/magnitude\n",
    "    u_z = V[2]/magnitude\n",
    "       \n",
    "    return ([u_x,u_y,u_z]) # return the components of the unit vector as a list"
   ]
  },
  {
   "cell_type": "code",
   "execution_count": 3,
   "metadata": {},
   "outputs": [
    {
     "name": "stdout",
     "output_type": "stream",
     "text": [
      "[1.0, 0.0, 0.0]\n",
      "[0.0, 1.0, 0.0]\n",
      "[0.0, 0.0, 1.0]\n",
      "[0.7071067811865475, 0.7071067811865475, 0.0]\n",
      "0.9999999999999999\n",
      "[0.2672612419124244, 0.5345224838248488, 0.8017837257372732]\n",
      "1.0\n"
     ]
    }
   ],
   "source": [
    "#>>>RUN: CTA1.2-runcell02\n",
    "\n",
    "# Basic manual tests. Do you get the expected output?\n",
    "\n",
    "print(unit_vector([3,0,0])) # Expected output: [1.0, 0.0, 0.0]\n",
    "print(unit_vector([0,3,0])) # Expected output: [0.0, 1.0, 0.0]\n",
    "print(unit_vector([0,0,3])) # Expected output: [0.0, 1.0, 0.0]\n",
    "a = unit_vector([1,1,0])\n",
    "print(a) # Expected output: [0.7071067811865475, 0.7071067811865475, 0.0]\n",
    "print(sqrt(a[0]**2 + a[1]**2 + a[2]**2)) # Expected output: close to 1, due numerical to approximations (analytically it is 1)\n",
    "b = unit_vector([1,2,3])\n",
    "print(b) # Expected output: [0.2672612419124244, 0.5345224838248488, 0.8017837257372732]\n",
    "print(sqrt(b[0]**2 + b[1]**2 + b[2]**2)) # Expected output: close to 1 (analytically it is 1)"
   ]
  },
  {
   "cell_type": "markdown",
   "metadata": {},
   "source": [
    "<a name='section_1_3'></a>\n",
    "\n",
    "\n",
    "<h2 style=\"border:1px; border-style:solid; padding: 0.25em; color: #FFFFFF; background-color: #90409C\">CTA1.3 Visualizations</h2>  \n",
    "\n",
    "| [1.0 Libraries and Settings](#section_1_0) | [1.1 Overview](#section_1_1) | [1.2 Completing the Code](#section_1_2) | [1.3 Visualizations](#section_1_3) | [1.4 Additional Tasks](#section_1_4) |"
   ]
  },
  {
   "cell_type": "markdown",
   "metadata": {},
   "source": [
    "Now run the cell below: it defines the function `draw_vector` to draw a vector and relative unit vector as graphical objects. Read only the docstring (in red). You do not need to read and understand the body of the function, but you are welcome to do so!"
   ]
  },
  {
   "cell_type": "code",
   "execution_count": 7,
   "metadata": {},
   "outputs": [],
   "source": [
    "#>>>RUN: CTA1.3-runcell01\n",
    "\n",
    "# TODO ADD coordinate system\n",
    "\n",
    "def draw_vector(V):\n",
    "    \"\"\"The function takes the following  input:\n",
    "    V = [v_x,v_y,v_z], a list of the x,y & z components of a vector V of non-zero length\n",
    "    and it creates a canvas representing the vector in green and the relative unit vector in red\n",
    "    Both vectors have the tail in the center of the canvas, at position (0,0,0)\"\"\"\n",
    "    scene = canvas()\n",
    "    Varrow = arrow(pos = vector(0,0,0), axis = vector(V[0], V[1],V[2]), shaftwidth = 0.05, color = color.green)\n",
    "    u = unit_vector(V)  # Call the function unit_vector on the instance vector V\n",
    "    uarrow = arrow(pos = vector(0,0,0), axis = vector(u[0], u[1],u[2]), shaftwidth=0.07, color = color.red)\n",
    "    \n",
    "    # Draw the (x,y,z) coordinate system center at the center of the rod - label (0,0,0)\n",
    "    a=1.                       #length of the (x,y,z) axis\n",
    "    arrow(pos=vector(0,0,0),axis=vector(a/2,0,0), shaftwidth=0.04, color=color.white)\n",
    "    arrow(pos=vector(0,0,0),axis=vector(0,a/2,0), shaftwidth=0.04, color=color.white)\n",
    "    arrow(pos=vector(0,0,0),axis=vector(0,0,a/2), shaftwidth=0.04, color=color.white)\n",
    "\n",
    "    label(pos=vector(0,0,0), xoffset=-.5,yoffset=-0.5, zoffset=-.5,text='O',\n",
    "      box=false,background=color.white,opacity=0.06, line=false)\n",
    "    label(pos=vector(a/2,0,0), xoffset=-a/6,yoffset=+a/6, text='x',\n",
    "      box=false,background=color.white,opacity=0.06, line=false) \n",
    "    label(pos=vector(0,a/2,0), xoffset=a/6,yoffset=a/10, text='y',\n",
    "      box=false, background=color.white,opacity=0.06, line= false) \n",
    "    label(pos=vector(0,0,a/2), xoffset=-a/6,yoffset=a/6,zoffset=-a/6, text='z',\n",
    "      box=false, background=color.white,opacity=0.06, line= false) \n",
    "\n",
    "    \n",
    "    "
   ]
  },
  {
   "cell_type": "markdown",
   "metadata": {},
   "source": [
    "Finally, call the draw_vector function for the problem you solve analytically to visualize vectors and unit vectors. The function creates a canvas representing the vector in green and the relative unit vector in red.\n",
    "You can use download this file (File-> Download As -> Notebook) and upload it again to this link to use this tool with vectors of your choice in the future!"
   ]
  },
  {
   "cell_type": "code",
   "execution_count": 8,
   "metadata": {},
   "outputs": [
    {
     "data": {
      "text/html": [
       "<div id=\"glowscript\" class=\"glowscript\"></div>"
      ],
      "text/plain": [
       "<IPython.core.display.HTML object>"
      ]
     },
     "metadata": {},
     "output_type": "display_data"
    },
    {
     "data": {
      "application/javascript": [
       "if (typeof Jupyter !== \"undefined\") { window.__context = { glowscript_container: $(\"#glowscript\").removeAttr(\"id\")};}else{ element.textContent = ' ';}"
      ],
      "text/plain": [
       "<IPython.core.display.Javascript object>"
      ]
     },
     "metadata": {},
     "output_type": "display_data"
    },
    {
     "ename": "NameError",
     "evalue": "name 'false' is not defined",
     "output_type": "error",
     "traceback": [
      "\u001b[0;31m---------------------------------------------------------------------------\u001b[0m",
      "\u001b[0;31mNameError\u001b[0m                                 Traceback (most recent call last)",
      "\u001b[0;32m/var/folders/7_/vp0018bj3jgc8hpwf72wzqw40000gt/T/ipykernel_12971/1541302091.py\u001b[0m in \u001b[0;36m<module>\u001b[0;34m\u001b[0m\n\u001b[1;32m      9\u001b[0m \u001b[0mC\u001b[0m \u001b[0;34m=\u001b[0m \u001b[0;34m[\u001b[0m\u001b[0mA\u001b[0m\u001b[0;34m[\u001b[0m\u001b[0;36m0\u001b[0m\u001b[0;34m]\u001b[0m\u001b[0;34m+\u001b[0m \u001b[0mB\u001b[0m\u001b[0;34m[\u001b[0m\u001b[0;36m0\u001b[0m\u001b[0;34m]\u001b[0m\u001b[0;34m,\u001b[0m \u001b[0mA\u001b[0m\u001b[0;34m[\u001b[0m\u001b[0;36m1\u001b[0m\u001b[0;34m]\u001b[0m\u001b[0;34m+\u001b[0m\u001b[0mB\u001b[0m\u001b[0;34m[\u001b[0m\u001b[0;36m1\u001b[0m\u001b[0;34m]\u001b[0m\u001b[0;34m,\u001b[0m \u001b[0mA\u001b[0m\u001b[0;34m[\u001b[0m\u001b[0;36m2\u001b[0m\u001b[0;34m]\u001b[0m\u001b[0;34m+\u001b[0m\u001b[0mB\u001b[0m\u001b[0;34m[\u001b[0m\u001b[0;36m2\u001b[0m\u001b[0;34m]\u001b[0m\u001b[0;34m]\u001b[0m\u001b[0;34m\u001b[0m\u001b[0;34m\u001b[0m\u001b[0m\n\u001b[1;32m     10\u001b[0m \u001b[0;34m\u001b[0m\u001b[0m\n\u001b[0;32m---> 11\u001b[0;31m \u001b[0mdraw_vector\u001b[0m\u001b[0;34m(\u001b[0m\u001b[0mC\u001b[0m\u001b[0;34m)\u001b[0m\u001b[0;34m\u001b[0m\u001b[0;34m\u001b[0m\u001b[0m\n\u001b[0m",
      "\u001b[0;32m/var/folders/7_/vp0018bj3jgc8hpwf72wzqw40000gt/T/ipykernel_12971/1802363340.py\u001b[0m in \u001b[0;36mdraw_vector\u001b[0;34m(V)\u001b[0m\n\u001b[1;32m     20\u001b[0m \u001b[0;34m\u001b[0m\u001b[0m\n\u001b[1;32m     21\u001b[0m     label(pos=vector(0,0,0), xoffset=-.5,yoffset=-0.5, zoffset=-.5,text='O',\n\u001b[0;32m---> 22\u001b[0;31m       box=false,background=color.white,opacity=0.06, line=false)\n\u001b[0m\u001b[1;32m     23\u001b[0m     label(pos=vector(a/2,0,0), xoffset=-a/6,yoffset=+a/6, text='x',\n\u001b[1;32m     24\u001b[0m       box=false,background=color.white,opacity=0.06, line=false) \n",
      "\u001b[0;31mNameError\u001b[0m: name 'false' is not defined"
     ]
    }
   ],
   "source": [
    "#>>>RUN: CTA1.3-runcell02\n",
    "\n",
    "# Call draw_vector on the following vectors:\n",
    "\n",
    "A = [1,4,0]\n",
    "B = [5,-2,0]\n",
    "# C = FILL IN\n",
    "\n",
    "C = [A[0]+ B[0], A[1]+B[1], A[2]+B[2]]\n",
    "\n",
    "draw_vector(C)\n"
   ]
  },
  {
   "cell_type": "markdown",
   "metadata": {},
   "source": [
    "<a name='section_1_4'></a>\n",
    "\n",
    "\n",
    "<h2 style=\"border:1px; border-style:solid; padding: 0.25em; color: #FFFFFF; background-color: #90409C\">CTA1.4 Additional Tasks</h2>  \n",
    "\n",
    "| [1.0 Libraries and Settings](#section_1_0) | [1.1 Overview](#section_1_1) | [1.2 Completing the Code](#section_1_2) | [1.3 Visualizations](#section_1_3) | [1.4 Additional Tasks](#section_1_4) |"
   ]
  },
  {
   "cell_type": "markdown",
   "metadata": {},
   "source": [
    "What else can we have them try?"
   ]
  }
 ],
 "metadata": {
  "kernelspec": {
   "display_name": "Python 3 (ipykernel)",
   "language": "python",
   "name": "python3"
  },
  "language_info": {
   "codemirror_mode": {
    "name": "ipython",
    "version": 3
   },
   "file_extension": ".py",
   "mimetype": "text/x-python",
   "name": "python",
   "nbconvert_exporter": "python",
   "pygments_lexer": "ipython3",
   "version": "3.9.13"
  },
  "vscode": {
   "interpreter": {
    "hash": "aee8b7b246df8f9039afb4144a1f6fd8d2ca17a180786b69acc140d282b71a49"
   }
  }
 },
 "nbformat": 4,
 "nbformat_minor": 1
}
