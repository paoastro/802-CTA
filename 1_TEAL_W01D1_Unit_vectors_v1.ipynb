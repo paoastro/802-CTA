{
 "cells": [
  {
   "cell_type": "markdown",
   "metadata": {},
   "source": [
    "<h1 style=\"color: #90409C\"><ins>COMPUTATIONAL THINKING ACTIVITY 1:</ins>\n",
    "    \n",
    "Visualizing Vectors and Unit Vectors</h1>"
   ]
  },
  {
   "cell_type": "markdown",
   "metadata": {},
   "source": [
    "<h4 style=\"color: #90409C\"><i>This notebook was authored by the ES.802 and 8.02 Course Teams, Copyright 2023 MIT All Rights Reserved.</i></h4>\n",
    "\n",
    "<a name='section_1_0'></a>\n",
    "\n",
    "<h2 style=\"border:1px; border-style:solid; padding: 0.25em; color: #FFFFFF; background-color: #90409C\">CTA1.0 Libraries and Settings</h2>\n",
    "\n",
    "| [1.0 Libraries and Settings](#section_1_0) | [1.1 Overview](#section_1_1) | [1.2 Completing the Code](#section_1_2) | [1.3 Visualizations](#section_1_3) | [1.4 Additional Tasks](#section_1_4) |"
   ]
  },
  {
   "cell_type": "markdown",
   "metadata": {},
   "source": [
    "<b><font color=\"red\">REMINDERS: the first time you open a notebook remember to select the 802cvmfs or 802 kernel. Save your work!</font></b>"
   ]
  },
  {
   "cell_type": "markdown",
   "metadata": {},
   "source": [
    "**Importing Libraries:** Before beginning, run the cell below to import the relevant libraries for this notebook.\n"
   ]
  },
  {
   "cell_type": "code",
   "execution_count": null,
   "metadata": {},
   "outputs": [],
   "source": [
    "#>>>RUN: CTA1.0-runcell01\n",
    "\n",
    "from vpython import *  #Here we're importing all the vpython package\n",
    "import matplotlib as plt"
   ]
  },
  {
   "cell_type": "markdown",
   "metadata": {},
   "source": [
    "**Setting Default Figure Parameters:** The following code cell sets default values for figure parameters."
   ]
  },
  {
   "cell_type": "code",
   "execution_count": null,
   "metadata": {},
   "outputs": [],
   "source": [
    "#>>>RUN: CTA1.0-runcell02\n",
    "\n",
    "#set plot resolution\n",
    "%config InlineBackend.figure_format = 'retina'\n",
    "\n",
    "#set default figure parameters\n",
    "plt.rcParams['figure.figsize'] = (9,6)\n",
    "\n",
    "medium_size = 12\n",
    "large_size = 15\n",
    "\n",
    "plt.rc('font', size=medium_size)          # default text sizes\n",
    "plt.rc('xtick', labelsize=medium_size)    # xtick labels\n",
    "plt.rc('ytick', labelsize=medium_size)    # ytick labels\n",
    "plt.rc('legend', fontsize=medium_size)    # legend\n",
    "plt.rc('axes', titlesize=large_size)      # axes title\n",
    "plt.rc('axes', labelsize=large_size)      # x and y labels\n",
    "plt.rc('figure', titlesize=large_size)    # figure title"
   ]
  },
  {
   "cell_type": "markdown",
   "metadata": {},
   "source": [
    "<a name='section_1_1'></a>\n",
    "\n",
    "<h2 style=\"border:1px; border-style:solid; padding: 0.25em; color: #FFFFFF; background-color: #90409C\">CTA1.1 Overview</h2>  \n",
    "\n",
    "| [1.0 Libraries and Settings](#section_1_0) | [1.1 Overview](#section_1_1) | [1.2 Completing the Code](#section_1_2) | [1.3 Visualizations](#section_1_3) | [1.4 Additional Tasks](#section_1_4) |"
   ]
  },
  {
   "cell_type": "markdown",
   "metadata": {},
   "source": [
    "The code below guides you to write a function that has a 3D vector as argument \n",
    "\n",
    "$$\\vec{\\mathbf{V}} = (v_x,v_y,v_x).$$ \n",
    "\n",
    "It  returns the components of the relative unit vector \n",
    "\n",
    "$$\\hat{\\mathbf{u}} = (u_x,u_y,u_x) = \\frac{\\vec V}{|\\vec V|}.$$ "
   ]
  },
  {
   "cell_type": "markdown",
   "metadata": {},
   "source": [
    "<a name='section_1_2'></a>\n",
    "\n",
    "<h2 style=\"border:1px; border-style:solid; padding: 0.25em; color: #FFFFFF; background-color: #90409C\">CTA1.2 Completing the Code</h2>  \n",
    "\n",
    "| [1.0 Libraries and Settings](#section_1_0) | [1.1 Overview](#section_1_1) | [1.2 Completing the Code](#section_1_2) | [1.3 Visualizations](#section_1_3) | [1.4 Additional Tasks](#section_1_4) |"
   ]
  },
  {
   "cell_type": "markdown",
   "metadata": {},
   "source": [
    "The code below defines a function called `unit_vector` that takes a vector as input and returns the corresponding unit vector. The unit vector has a magnitude of 1 and points in the same direction as the original vector.\n",
    "\n",
    "The input vector is provided as a list `[v_x,v_y,v_z]`, where `v_x`, `v_y`, and `v_z` represent the x, y, and z components of the vector, respectively.\n",
    "\n",
    "The first step of the function is to calculate the magnitude of the input vector using the formula `sqrt(v_x^2 + v_y^2 + v_z^2)`.\n",
    "\n",
    "Next, the x, y, and z components of the unit vector are computed by dividing the x, y, and z components of the input vector by its magnitude. These values are then returned as a list `[u_x,u_y,u_z]`."
   ]
  },
  {
   "cell_type": "code",
   "execution_count": null,
   "metadata": {},
   "outputs": [],
   "source": [
    "#>>>RUN: CTA1.2-runcell01\n",
    "\n",
    "def unit_vector(V):\n",
    "    \"\"\"The function takes the following  input:\n",
    "    V = [v_x,v_y,v_z], a list of the x,y & z components of a vector V of non-zero length \n",
    "    It returns [u_x,u_y,u_z], a list the x,y & z components of the unit vector in the direction of V.\"\"\"\n",
    "\n",
    "    #magnitude = FILL IN \n",
    "    magnitude = sqrt(V[0]**2 + V[1]**2 + V[2]**2)\n",
    "    \n",
    "    # Second: calculate the components of the unit vector\n",
    "    # Remember, the unit vector is given by a vector divided by its magnitude\n",
    "    \n",
    "    #u_x = FILL IN\n",
    "    #u_y = FILL IN\n",
    "    #u_z = FILL IN\n",
    "    \n",
    "    u_x = V[0]/magnitude\n",
    "    u_y = V[1]/magnitude\n",
    "    u_z = V[2]/magnitude\n",
    "       \n",
    "    return ([u_x,u_y,u_z]) # return the components of the unit vector as a list"
   ]
  },
  {
   "cell_type": "code",
   "execution_count": null,
   "metadata": {},
   "outputs": [],
   "source": [
    "#>>>RUN: CTA1.2-runcell02\n",
    "\n",
    "# Basic manual tests. Do you get the expected output?\n",
    "\n",
    "print(unit_vector([3,0,0])) # Expected output: [1.0, 0.0, 0.0]\n",
    "print(unit_vector([0,3,0])) # Expected output: [0.0, 1.0, 0.0]\n",
    "print(unit_vector([0,0,3])) # Expected output: [0.0, 1.0, 0.0]\n",
    "a = unit_vector([1,1,0])\n",
    "print(a) # Expected output: [0.7071067811865475, 0.7071067811865475, 0.0]\n",
    "print(sqrt(a[0]**2 + a[1]**2 + a[2]**2)) # Expected output: close to 1, due numerical to approximations (analytically it is 1)\n",
    "b = unit_vector([1,2,3])\n",
    "print(b) # Expected output: [0.2672612419124244, 0.5345224838248488, 0.8017837257372732]\n",
    "print(sqrt(b[0]**2 + b[1]**2 + b[2]**2)) # Expected output: close to 1 (analytically it is 1)"
   ]
  },
  {
   "cell_type": "markdown",
   "metadata": {},
   "source": [
    "<a name='section_1_3'></a>\n",
    "\n",
    "\n",
    "<h2 style=\"border:1px; border-style:solid; padding: 0.25em; color: #FFFFFF; background-color: #90409C\">CTA1.3 Visualizations</h2>  \n",
    "\n",
    "| [1.0 Libraries and Settings](#section_1_0) | [1.1 Overview](#section_1_1) | [1.2 Completing the Code](#section_1_2) | [1.3 Visualizations](#section_1_3) | [1.4 Additional Tasks](#section_1_4) |"
   ]
  },
  {
   "cell_type": "markdown",
   "metadata": {},
   "source": [
    "Now run the cell below: it defines the function `draw_vector` to draw a vector and relative unit vector as graphical objects. Read only the docstring (in red). You do not need to read and understand the body of the function, but you are welcome to do so!"
   ]
  },
  {
   "cell_type": "code",
   "execution_count": null,
   "metadata": {},
   "outputs": [],
   "source": [
    "#>>>RUN: CTA1.3-runcell01\n",
    "\n",
    "def canvas_with_instructions():\n",
    "    scene = canvas() \n",
    "    s = \"Rotate the camera by dragging with the right mouse button,\\n\"\n",
    "    s += \"To zoom, drag with the left+right mouse buttons or use the mouse pad.\\n\"\n",
    "    s += \"Touch screen: pinch/extend to zoom, swipe or two-finger rotate.\"\n",
    "    scene.caption = s\n",
    "    return scene\n",
    "                \n",
    "\n",
    "def draw_vector(V):\n",
    "    \"\"\"The function takes the following  input:\n",
    "    V = [v_x,v_y,v_z], a list of the x,y & z components of a vector V of non-zero length\n",
    "    and it creates a canvas representing the vector in green and the relative unit vector in red\n",
    "    Both vectors have the tail in the center of the canvas, at position (0,0,0)\"\"\"\n",
    "    scene = canvas_with_instructions() \n",
    "    Varrow = arrow(pos = vector(0,0,0), axis = vector(V[0], V[1],V[2]), shaftwidth = 0.05, color = color.green)\n",
    "    u = unit_vector(V)  # Call the function unit_vector on the instance vector V\n",
    "    uarrow = arrow(pos = vector(0,0,0), axis = vector(u[0], u[1],u[2]), shaftwidth=0.07, color = color.red)\n",
    "    \n",
    "    # Draw the (x,y,z) coordinate system center at the center of the rod - label (0,0,0)\n",
    "    a=1.                       #length of the (x,y,z) axis\n",
    "    arrow(pos=vector(0,0,0),axis=vector(a/2,0,0), shaftwidth=0.04, color=color.white)\n",
    "    arrow(pos=vector(0,0,0),axis=vector(0,a/2,0), shaftwidth=0.04, color=color.white)\n",
    "    arrow(pos=vector(0,0,0),axis=vector(0,0,a/2), shaftwidth=0.04, color=color.white)\n",
    "\n",
    "    label(pos=vector(0,0,0), xoffset=-.5,yoffset=-0.5, zoffset=-.5,text='O',\n",
    "      box=False,background=color.white,opacity=0.06, line=False)\n",
    "    label(pos=vector(a/2,0,0), xoffset=-a/6,yoffset=+a/6, text='x',\n",
    "      box=False,background=color.white,opacity=0.06, line=False) \n",
    "    label(pos=vector(0,a/2,0), xoffset=a/6,yoffset=a/10, text='y',\n",
    "      box=False, background=color.white,opacity=0.06, line= False) \n",
    "    label(pos=vector(0,0,a/2), xoffset=-a/6,yoffset=a/6,zoffset=-a/6, text='z',\n",
    "      box=False, background=color.white,opacity=0.06, line= False) \n",
    "\n",
    "    \n",
    "    "
   ]
  },
  {
   "cell_type": "markdown",
   "metadata": {},
   "source": [
    "Finally, call the draw_vector function for the problem you solve analytically to visualize vectors and unit vectors. The function creates a canvas representing the vector in green and the relative unit vector in red.\n",
    "You can use download this file (File-> Download As -> Notebook) and upload it again to this link to use this tool with vectors of your choice in the future!"
   ]
  },
  {
   "cell_type": "code",
   "execution_count": null,
   "metadata": {},
   "outputs": [],
   "source": [
    "#>>>RUN: CTA1.3-runcell02\n",
    "\n",
    "# Call draw_vector on the following vectors:\n",
    "\n",
    "A = [1,4,0]\n",
    "B = [5,-2,0]\n",
    "# C = FILL IN\n",
    "\n",
    "C = [A[0]+ B[0], A[1]+B[1], A[2]+B[2]]\n",
    "\n",
    "draw_vector(C)\n"
   ]
  },
  {
   "cell_type": "markdown",
   "metadata": {},
   "source": [
    "<a name='section_1_4'></a>\n",
    "\n",
    "\n",
    "<h2 style=\"border:1px; border-style:solid; padding: 0.25em; color: #FFFFFF; background-color: #90409C\">CTA1.4 Additional Tasks</h2>  \n",
    "\n",
    "| [1.0 Libraries and Settings](#section_1_0) | [1.1 Overview](#section_1_1) | [1.2 Completing the Code](#section_1_2) | [1.3 Visualizations](#section_1_3) | [1.4 Additional Tasks](#section_1_4) |"
   ]
  },
  {
   "cell_type": "markdown",
   "metadata": {},
   "source": [
    "What else can we have them try?"
   ]
  }
 ],
 "metadata": {
  "kernelspec": {
   "display_name": "802cvmfs",
   "language": "python",
   "name": "802cvmfs"
  },
  "language_info": {
   "codemirror_mode": {
    "name": "ipython",
    "version": 3
   },
   "file_extension": ".py",
   "mimetype": "text/x-python",
   "name": "python",
   "nbconvert_exporter": "python",
   "pygments_lexer": "ipython3",
   "version": "3.9.16"
  },
  "vscode": {
   "interpreter": {
    "hash": "aee8b7b246df8f9039afb4144a1f6fd8d2ca17a180786b69acc140d282b71a49"
   }
  }
 },
 "nbformat": 4,
 "nbformat_minor": 4
}
