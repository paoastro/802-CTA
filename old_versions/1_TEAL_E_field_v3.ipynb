{
 "cells": [
  {
   "cell_type": "markdown",
   "metadata": {},
   "source": [
    "<h1 style=\"color: #90409C\"><ins>COMPUTATIONAL THINKING ACTIVITY 2:</ins>\n",
    "\n",
    "Visualizing the Electric Field of Discrete Charge Distributions</h1>"
   ]
  },
  {
   "cell_type": "markdown",
   "metadata": {},
   "source": [
    "<h4 style=\"color: #90409C\"><i>This notebook was authored by the ES.802 + 8.02 Course Team, Copyright 2023 MIT All Rights Reserved.</i></h4>\n",
    "\n",
    "<a name='section_2_1'></a>\n",
    "\n",
    "<h2 style=\"border:1px; border-style:solid; padding: 0.25em; color: #FFFFFF; background-color: #90409C\">CTA2.1 Completing the Code</h2>  \n",
    "\n",
    "| [2.1 Completing the Code](#section_2_1) | [2.2 Visualizations](#section_2_2) |  [2.3 Background](#section_2_3) | [2.4 Additional Tasks](#section_2_4) |"
   ]
  },
  {
   "cell_type": "code",
   "execution_count": 1,
   "metadata": {},
   "outputs": [
    {
     "data": {
      "text/html": [
       "<div id=\"glowscript\" class=\"glowscript\"></div>"
      ],
      "text/plain": [
       "<IPython.core.display.HTML object>"
      ]
     },
     "metadata": {},
     "output_type": "display_data"
    },
    {
     "data": {
      "application/javascript": [
       "if (typeof Jupyter !== \"undefined\") { window.__context = { glowscript_container: $(\"#glowscript\").removeAttr(\"id\")};}else{ element.textContent = ' ';}"
      ],
      "text/plain": [
       "<IPython.core.display.Javascript object>"
      ]
     },
     "metadata": {},
     "output_type": "display_data"
    }
   ],
   "source": [
    "#>>>RUN: CTA2.1-runcell01\n",
    "\n",
    "#Run this cell to import the relevant libraries for this notebook.\n",
    "from vpython import *  #Here we're importing all the vpython package"
   ]
  },
  {
   "cell_type": "code",
   "execution_count": 2,
   "metadata": {},
   "outputs": [],
   "source": [
    "#>>>RUN: CTA2.1-runcell02\n",
    "\n",
    "#Here we will complete a function that calculates the E-field of a point charge at some point P in space\n",
    "\n",
    "def calculate_E(q,r_S,r_P):\n",
    "    \n",
    "    \"\"\"The function takes the following inputs:\n",
    "    q: value of the point charge in C,\n",
    "    r_S: [x_S,y_S,z_S] coordinates of the source point in m,\n",
    "    r_P: [x_P,y_P,z_P] coordinates of point P in m\n",
    "    The function returns [E_x,E_y,E_z], the x,y & z components of the E field at point P in SI units\"\"\"\n",
    " \n",
    "    #Defining the constants epsilon_0 and k in SI units\n",
    "    \n",
    "    e0 = 8.854187817e-12  \n",
    "    k = 1.0 / (4 * pi * e0)\n",
    "\n",
    "    # First: Calculate the distance rSP between the charge and point P: \n",
    "    # Reminder 1: use sqrt( ) for square root and x**2 for x^2. \n",
    "    # Reminder 2: the coordinates are elements of a list; for example, for the position of the charge\n",
    "    # x_S = r_S[0], y_S= r_S[1], z_S=r_S[2]. \n",
    "\n",
    "    #rSP = UNCOMMENT AND FILL IN HERE AND THE PARTS WHERE IT SAYS FILL IN\n",
    "    rSP = sqrt(((r_P[0]-r_S[0])**2) + ((r_P[1]-r_S[1])**2) + ((r_P[2]-r_S[2])**2))\n",
    "         \n",
    "    \n",
    "    # Second: Calculate the field components using constants, rSP, and the coordinates of q and P as needed\n",
    "    # Hint  Review (eq. 1) for the E-field.\n",
    "    \n",
    "    #E_x = FILL IN\n",
    "    #E_y = FILL IN\n",
    "    #E_z = FILL IN\n",
    "    \n",
    "    #SOLUTION\n",
    "    E_x = k*q *( (r_P[0]-r_S[0]) / rSP**3) \n",
    "    E_y = k*q *( (r_P[1]-r_S[1]) / rSP**3) \n",
    "    E_z = k*q *( (r_P[2]-r_S[2]) / rSP**3) \n",
    "\n",
    "     \n",
    "    return([E_x,E_y,E_z])"
   ]
  },
  {
   "cell_type": "code",
   "execution_count": 3,
   "metadata": {},
   "outputs": [
    {
     "name": "stdout",
     "output_type": "stream",
     "text": [
      "Test: [0.0, 2.246887946999478, 0.0] N/C Expected output: [0.0, 2.246887946999478, 0.0] N/C\n",
      "Test: [-0.7644068026886632, 1.5288136053773265, -0.7644068026886632] N/C Expected output: [-0.7644068026886633, 1.5288136053773267, -0.7644068026886633] N/C\n",
      "Test: [0.17284463695641594, 0.3456892739128319, 0.057614878985471976] N/C Expected output: [0.17284463695641594, 0.3456892739128319, 0.05761487898547198] N/C\n"
     ]
    }
   ],
   "source": [
    "#>>>RUN: CTA2.1-runcell03\n",
    "\n",
    "# Manual test cases:\n",
    "print(\"Test:\", calculate_E(1e-9,[0,0,0],[0,2,0]),\"N/C\", \"Expected output:\", [0.0, 2.246887946999478, 0.0], \"N/C\")\n",
    "print(\"Test:\", calculate_E(-5e-9,[-2,1,0],[0,-3,2]),\"N/C\", \"Expected output:\", [-0.7644068026886633, 1.5288136053773267, -0.7644068026886633], \"N/C\")\n",
    "print(\"Test:\", calculate_E(-2e-9,[-1,3,-2],[-4,-3,-3]),\"N/C\", \"Expected output:\", [0.17284463695641594, 0.3456892739128319, 0.05761487898547198], \"N/C\")"
   ]
  },
  {
   "cell_type": "markdown",
   "metadata": {},
   "source": [
    "<h3>What it's doing</h3>\n",
    "\n",
    "The code below defines a function called `calculate_E` that takes three inputs, the charge `q`, and the coordinates of two points `r_S` and `r_P`. The function calculates the electric field vector `E` at point `P` due to a point charge `q` located at point `S`, using Coulomb's law.\n",
    "\n",
    "The first step of the function is to define the constants `e0` and `k` in SI units. `e0` is the electric constant or vacuum permittivity, and `k` is the Coulomb constant.\n",
    "\n",
    "Next, the function calculates the distance `rSP` between the point charge and point `P` using the distance formula, which involves the coordinates of both points.\n",
    "\n",
    "Finally, the function computes the x, y, and z components of the electric field vector `E` at point `P` using Coulomb's law, which involves `q`, `rSP`, and the coordinates of the two points. The components are then returned as a list `[E_x, E_y, E_z]`, representing the x, y, and z components of E, respectively."
   ]
  },
  {
   "cell_type": "markdown",
   "metadata": {},
   "source": [
    "<a name='section_2_2'></a>\n",
    "\n",
    "\n",
    "<h2 style=\"border:1px; border-style:solid; padding: 0.25em; color: #FFFFFF; background-color: #90409C\">CTA2.2 Visualizations</h2>  \n",
    "\n",
    "| [2.1 Completing the Code](#section_2_1) | [2.2 Visualizations](#section_2_2) |  [2.3 Background](#section_2_3) | [2.4 Additional Tasks](#section_2_4) |"
   ]
  },
  {
   "cell_type": "code",
   "execution_count": 4,
   "metadata": {},
   "outputs": [],
   "source": [
    "#>>>RUN: CTA2.2-runcell01\n",
    "\n",
    "# This is the function to draw the configuration and the fields. You don't need to read through this function\n",
    "# Just treat it as a black box that draws the configuration (unless you're interested in knowing how it works :) )\n",
    "\n",
    "def canvas_with_instructions():\n",
    "    scene = canvas() \n",
    "    s = \"Rotate the camera by dragging with the right mouse button,\\n\"\n",
    "    s += \"To zoom, drag with the left+right mouse buttons or use the mouse pad.\\n\"\n",
    "    s += \"Touch screen: pinch/extend to zoom, swipe or two-finger rotate.\"\n",
    "    scene.caption = s\n",
    "    return scene\n",
    "                \n",
    "    \n",
    "def draw_configuration(charges,loc,points,draw_contributions = True):\n",
    "    \"\"\"the E field produced by positive charges is in red, the E field produced by negative charges is blue  and the net electric field \n",
    "    at a given location is in green\"\"\"\n",
    "    scene = canvas_with_instructions() \n",
    "    for point in points:\n",
    "        Es = [calculate_E(charges[index],loc[index],point) for index in range(len(charges))]\n",
    "        E_tot = [sum(E) for E in zip(*Es)]\n",
    "        colors = [color.blue if charge<0 else color.red for charge in charges]\n",
    "        radii = [0.5e9*abs(charge) for charge in charges]\n",
    "        for index in range(len(charges)):\n",
    "            sphere(pos=vector(loc[index][0],loc[index][1],loc[index][2]), radius=radii[index], color=colors[index])\n",
    "        if mag(vector(E_tot[0], E_tot[1],E_tot[2])) >0:\n",
    "            Earrow_tot=arrow(pos=vector(point[0],point[1],point[2]), axis=vector(E_tot[0], E_tot[1],E_tot[2]), shaftwidth=0.05,color=color.green)\n",
    "        if draw_contributions:\n",
    "            for index in range(len(Es)):\n",
    "                E = Es[index]\n",
    "                arrow(pos=vector(point[0],point[1],point[2]), axis=vector(E[0], E[1],E[2]),  shaftwidth=0.03,color=colors[index])\n"
   ]
  },
  {
   "cell_type": "code",
   "execution_count": 5,
   "metadata": {},
   "outputs": [
    {
     "data": {
      "text/html": [
       "<div id=\"glowscript\" class=\"glowscript\"></div>"
      ],
      "text/plain": [
       "<IPython.core.display.HTML object>"
      ]
     },
     "metadata": {},
     "output_type": "display_data"
    },
    {
     "data": {
      "application/javascript": [
       "if (typeof Jupyter !== \"undefined\") { window.__context = { glowscript_container: $(\"#glowscript\").removeAttr(\"id\")};}else{ element.textContent = ' ';}"
      ],
      "text/plain": [
       "<IPython.core.display.Javascript object>"
      ]
     },
     "metadata": {},
     "output_type": "display_data"
    },
    {
     "data": {
      "application/javascript": [
       "if (typeof Jupyter !== \"undefined\") {require.undef(\"nbextensions/vpython_libraries/glow.min\");}else{element.textContent = ' ';}"
      ],
      "text/plain": [
       "<IPython.core.display.Javascript object>"
      ]
     },
     "metadata": {},
     "output_type": "display_data"
    },
    {
     "data": {
      "application/javascript": [
       "if (typeof Jupyter !== \"undefined\") {require.undef(\"nbextensions/vpython_libraries/glowcomm\");}else{element.textContent = ' ';}"
      ],
      "text/plain": [
       "<IPython.core.display.Javascript object>"
      ]
     },
     "metadata": {},
     "output_type": "display_data"
    },
    {
     "data": {
      "application/javascript": [
       "if (typeof Jupyter !== \"undefined\") {require.undef(\"nbextensions/vpython_libraries/jquery-ui.custom.min\");}else{element.textContent = ' ';}"
      ],
      "text/plain": [
       "<IPython.core.display.Javascript object>"
      ]
     },
     "metadata": {},
     "output_type": "display_data"
    },
    {
     "data": {
      "application/javascript": [
       "if (typeof Jupyter !== \"undefined\") {require([\"nbextensions/vpython_libraries/glow.min\"], function(){console.log(\"GLOW LOADED\");});}else{element.textContent = ' ';}"
      ],
      "text/plain": [
       "<IPython.core.display.Javascript object>"
      ]
     },
     "metadata": {},
     "output_type": "display_data"
    },
    {
     "data": {
      "application/javascript": [
       "if (typeof Jupyter !== \"undefined\") {require([\"nbextensions/vpython_libraries/glowcomm\"], function(){console.log(\"GLOWCOMM LOADED\");});}else{element.textContent = ' ';}"
      ],
      "text/plain": [
       "<IPython.core.display.Javascript object>"
      ]
     },
     "metadata": {},
     "output_type": "display_data"
    },
    {
     "data": {
      "application/javascript": [
       "if (typeof Jupyter !== \"undefined\") {require([\"nbextensions/vpython_libraries/jquery-ui.custom.min\"], function(){console.log(\"JQUERY LOADED\");});}else{element.textContent = ' ';}"
      ],
      "text/plain": [
       "<IPython.core.display.Javascript object>"
      ]
     },
     "metadata": {},
     "output_type": "display_data"
    }
   ],
   "source": [
    "#>>>RUN: CTA2.2-runcell02\n",
    "\n",
    "#Run the cell below. You can add points or change the points where the E-field is calculated and visualized.\n",
    "# You may have to run this cell twice to see the visualization\n",
    "\n",
    "q = 1e-10 # C\n",
    "a= 1.5 # m\n",
    "\n",
    "charges = [q,-q] #  List of the values of the charges in C\n",
    "locations = [[0,a,0],[0,-a,0]] # List of lists of positions of charges[[x_S1,y_S1,z_S1],[x_S2,y_S2,z_S2],...] \n",
    "points = [[0,0,0],[0.5,0,0],[-0.5,0,0],[-1,0,0],[1,0,0],[-2,0,0],[2,0,0],[-1.5,0,0],[1.5,0,0]] # List of lists [x_P1,y_P1,z_P1,[x_P2,y_P2,z_P2],...]\n",
    "# points is the list of positions (in m) of points where to calculate E-field \n",
    "\n",
    "draw_configuration(charges,locations,points)"
   ]
  },
  {
   "cell_type": "markdown",
   "metadata": {},
   "source": [
    "You could have done the sketch above by hand."
   ]
  },
  {
   "cell_type": "code",
   "execution_count": 10,
   "metadata": {},
   "outputs": [
    {
     "data": {
      "text/html": [
       "<div id=\"glowscript\" class=\"glowscript\"></div>"
      ],
      "text/plain": [
       "<IPython.core.display.HTML object>"
      ]
     },
     "metadata": {},
     "output_type": "display_data"
    },
    {
     "data": {
      "application/javascript": [
       "if (typeof Jupyter !== \"undefined\") { window.__context = { glowscript_container: $(\"#glowscript\").removeAttr(\"id\")};}else{ element.textContent = ' ';}"
      ],
      "text/plain": [
       "<IPython.core.display.Javascript object>"
      ]
     },
     "metadata": {},
     "output_type": "display_data"
    }
   ],
   "source": [
    "points1 = [[1,-2,0],[0.5,0.5,0],[1,2,0],[1,1,0],[2,2,0]] # List of lists [x_P1,y_P1,z_P1,[x_P2,y_P2,z_P2],...]\n",
    "# points is the list of positions (in m) of points where to calculate E-field \n",
    "\n",
    "draw_configuration(charges,locations,points1)"
   ]
  },
  {
   "cell_type": "markdown",
   "metadata": {},
   "source": [
    "<h3>What it's doing</h3>\n",
    "\n",
    "\n",
    "<!--TODO CHANGE FIGURE\n",
    "\n",
    "<img src=\"images/dipole.png\" height=20 />-->\n",
    "\n",
    "We're visualizing the electric field of a dipole along its axis of symmetry. Specifically, we're using `draw_configuration` to draw the E-field of a dipole at different points along the x-axis. This dipole lies along the y-axis. The origin of the coordinate system is at the middle point between the two charges.\n",
    "\n",
    "\n",
    "<img src=\"images/dipole_TEAL.jpg\" height=20 />\n",
    "\n",
    "\n",
    "In the simulation, the E field produced by positive charges is in red, the E field produced by negative charges is blue and the net electric field at a given location is in green. We use  $q = {10}^{-10} C$ and the distance between charges $a= 1.5$ m. Run the cell below.\n",
    "\n",
    "You can add points or change the points where the E-field is calculated and visualized."
   ]
  },
  {
   "cell_type": "markdown",
   "metadata": {},
   "source": [
    "<a name='section_2_3'></a>\n",
    "\n",
    "<h2 style=\"border:1px; border-style:solid; padding: 0.25em; color: #FFFFFF; background-color: #90409C\">CTA2.3 Background</h2>  \n",
    "\n",
    "| [2.1 Completing the Code](#section_2_1) | [2.2 Visualizations](#section_2_2) |  [2.3 Background](#section_2_3) | [2.4 Additional Tasks](#section_2_4) |"
   ]
  },
  {
   "cell_type": "markdown",
   "metadata": {},
   "source": [
    "The electric field produced by a point charge $q$ at a point P in space is given by \n",
    "\n",
    "\n",
    "$$\\vec{\\mathbf{E}} =\\frac{kq}{| \\vec{\\mathbf{r}}_P-\\vec{\\mathbf{r}}_S |^2}\\frac{( \\vec{\\mathbf{r}}_P-\\vec{\\mathbf{r}}_S )}{| \\vec{\\mathbf{r}}_P-\\vec{\\mathbf{r}}_S |}=kq\\frac{( \\vec{\\mathbf{r}}_P-\\vec{\\mathbf{r}}_S )}{| \\vec{\\mathbf{r}}_P-\\vec{\\mathbf{r}}_S |^3}  \\;\\;\\; \\mbox{(eq. 1)},$$\n",
    "\n",
    "\n",
    "where \n",
    "\n",
    "$k=\\frac{1}{4\\pi\\epsilon_0}$ is the Coulomb constant\n",
    "\n",
    "$\\vec{\\mathbf{r}}_S $= source point, or the position of the charge producing the E-field\n",
    "\n",
    "$\\vec{\\mathbf{r}}_P $= field point, or the position of point P where we want to calculate the E-field.\n",
    "\n",
    "\n",
    "To find the x,y and z components of the E-field, we need to express the vectors $\\vec{\\mathbf{r}}_S $ and $\\vec{\\mathbf{r}}_P $ in cartesian coordinates. If the coordinates of the source point are:\n",
    "\n",
    "$$\\vec{\\mathbf{r}}_S = (x_S, y_S, z_S)$$\n",
    "\n",
    "and the coordinates of the field point are:\n",
    "\n",
    "$$\\vec{\\mathbf{r}}_P = (x_P, y_P, z_P)$$\n",
    "\n",
    "then the vector from the source S to point P is given by:\n",
    "\n",
    "$$\\vec{\\mathbf{r}}_P-\\vec{\\mathbf{r}}_S = (x_P-x_S)\\; \\hat{\\mathbf{i}} + (y_P-y_S)\\; \\hat{\\mathbf{j}} + (z_P-z_S) \\;\\hat{\\mathbf{k}} \\;\\;\\;\\; \\mbox{(eq. 2)}$$\n",
    "\n",
    "Note that the denominator in the expression of the E-field in (eq. 1) is the <b>cube</b> of the distance between the charge $q$ and point P. We will call this distance $r_{SP}$ and it is defined as \n",
    "\n",
    "$$r_{SP} = |\\vec{\\mathbf{r}}_P-\\vec{\\mathbf{r}}_S|  \\;\\;\\; \\mbox{(eq. 3)}$$\n",
    "\n",
    "The above equations should help you when you fill in the function `Calculate_E( )` in the code below. "
   ]
  },
  {
   "cell_type": "markdown",
   "metadata": {},
   "source": [
    "<a name='section_2_4'></a>\n",
    "\n",
    "\n",
    "<h2 style=\"border:1px; border-style:solid; padding: 0.25em; color: #FFFFFF; background-color: #90409C\">CTA2.4 Additional Tasks</h2>  \n",
    "\n",
    "| [2.1 Completing the Code](#section_2_1) | [2.2 Visualizations](#section_2_2) |  [2.3 Background](#section_2_3) | [2.4 Additional Tasks](#section_2_4) |"
   ]
  },
  {
   "cell_type": "markdown",
   "metadata": {},
   "source": [
    "<h3>From point charges to a continuous distribution</h3>\n",
    "\n",
    "Now, we will use the program we built to draw the approximate E-field of a charged ring on a point along the x-axis. \n",
    "\n",
    "We will build a ring by taking a charge q and splitting it equally into N point charges that lie on a circle in the yz-plane.\n",
    "\n",
    "\n",
    "The E field produced by positive point charges is in red, the E field produced by positive negative charges is blue  and the net electric field at a given location is in green.\n",
    "\n",
    "In the simulation we use  $q = {10}^{-9} C$. \n",
    "\n",
    "<b>Run the cell below. Change N from 1 to 4, 10, 50. Rotate the camera to get a better view of the charges and the field they produce!</b>\n",
    "\n",
    "\n",
    "You can add points or change the points where the E-field is calculated and visualized."
   ]
  },
  {
   "cell_type": "code",
   "execution_count": null,
   "metadata": {},
   "outputs": [],
   "source": [
    "#>>>RUN: CTA2.4-runcell01\n",
    "# You may have to run this cell twice to see the visualization\n",
    "\n",
    "N = 50 ### CHANGE N here\n",
    "\n",
    "q = 20e-10 # C\n",
    "R = 0.5 # m\n",
    "\n",
    "\n",
    "qi = q/N\n",
    "thetai =2*pi/N\n",
    "\n",
    "charges = []\n",
    "locations = []\n",
    "points = []\n",
    "\n",
    "theta = 0\n",
    "\n",
    "for i in range(1,N+1,1):\n",
    "    charges.append(qi)\n",
    "    locations.append([0, R*cos(theta), R*sin(theta)])\n",
    "    theta += thetai\n",
    "\n",
    "points = [[1,0,0]]    \n",
    "#print(locations)\n",
    "\n",
    "draw_configuration(charges,locations,points)"
   ]
  },
  {
   "cell_type": "markdown",
   "metadata": {},
   "source": [
    "We strongly encourage you to <b>explore more</b> charge configurations and play around with the values and location of charges. For example, plot the electric field of the dipole at points not along the symmetry axis. Or plot the electrix field produced by a water molecule modeled as a point charges. Or think of any charge configuration you're interested in and explore the fields it creates!!!"
   ]
  }
 ],
 "metadata": {
  "kernelspec": {
   "display_name": "Python 3 (ipykernel)",
   "language": "python",
   "name": "python3"
  },
  "language_info": {
   "codemirror_mode": {
    "name": "ipython",
    "version": 3
   },
   "file_extension": ".py",
   "mimetype": "text/x-python",
   "name": "python",
   "nbconvert_exporter": "python",
   "pygments_lexer": "ipython3",
   "version": "3.9.13"
  },
  "vscode": {
   "interpreter": {
    "hash": "aee8b7b246df8f9039afb4144a1f6fd8d2ca17a180786b69acc140d282b71a49"
   }
  }
 },
 "nbformat": 4,
 "nbformat_minor": 1
}
