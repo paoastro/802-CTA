{
 "cells": [
  {
   "cell_type": "markdown",
   "metadata": {},
   "source": [
    "<h1 style=\"color: #90409C\"><ins>COMPUTATIONAL THINKING ACTIVITY 3:</ins>\n",
    "\n",
    "Visualizations Using Gauss's Law</h1>"
   ]
  },
  {
   "cell_type": "markdown",
   "metadata": {},
   "source": [
    "<h4 style=\"color: #90409C\"><i>This notebook was authored by the 8.02 Course Team, Copyright 2023 MIT All Rights Reserved.</i></h4>\n",
    "\n",
    "<a name='section_3_0'></a>\n",
    "\n",
    "<h2 style=\"border:1px; border-style:solid; padding: 0.25em; color: #FFFFFF; background-color: #90409C\">CTA3.0 Libraries and Settings</h2>\n",
    "\n",
    "| [3.0 Libraries and Settings](#section_3_0) | [3.1 Overview](#section_3_1) | [3.2 Task A](#section_3_2) | [3.3 Task B](#section_3_3) | [3.4 Task C](#section_3_4) |"
   ]
  },
  {
   "cell_type": "markdown",
   "metadata": {},
   "source": [
    "**<font color=\"red\">WARNING:** <b><font color=\"red\">If you are working on-line and close the tab you will loose your work! Remember to save your work from time to time by clicking on the cloud with the arrow pointing down. If you accidentally close the tab, you can load the notebook again and recover your work by clicking on the the cloud with the arrow pointing up.</font></b>"
   ]
  },
  {
   "cell_type": "markdown",
   "metadata": {},
   "source": [
    "**Importing Libraries:** Before beginning, run the cell below to import the relevant libraries for this notebook. The following cell also imports our ready code to draw E field and Gaussian surfaces at given locations. If you want to take a look at how we implemented the code, you can find the code <a href=\"Gauss.py\">here</a>\n"
   ]
  },
  {
   "cell_type": "code",
   "execution_count": null,
   "metadata": {},
   "outputs": [],
   "source": [
    "#>>>RUN: CTA3.0-runcell01\n",
    "\n",
    "from vpython import *  #Here we're importing all the vpython package\n",
    "from Gauss import *"
   ]
  },
  {
   "cell_type": "markdown",
   "metadata": {},
   "source": [
    "**Setting Default Figure Parameters:** The following code cell sets default values for figure parameters."
   ]
  },
  {
   "cell_type": "code",
   "execution_count": null,
   "metadata": {},
   "outputs": [],
   "source": [
    "#>>>RUN: CTA3.0-runcell02\n",
    "\n",
    "#set plot resolution\n",
    "%config InlineBackend.figure_format = 'retina'\n",
    "\n",
    "#set default figure parameters\n",
    "plt.rcParams['figure.figsize'] = (9,6)\n",
    "\n",
    "medium_size = 12\n",
    "large_size = 15\n",
    "\n",
    "plt.rc('font', size=medium_size)          # default text sizes\n",
    "plt.rc('xtick', labelsize=medium_size)    # xtick labels\n",
    "plt.rc('ytick', labelsize=medium_size)    # ytick labels\n",
    "plt.rc('legend', fontsize=medium_size)    # legend\n",
    "plt.rc('axes', titlesize=large_size)      # axes title\n",
    "plt.rc('axes', labelsize=large_size)      # x and y labels\n",
    "plt.rc('figure', titlesize=large_size)    # figure title"
   ]
  },
  {
   "cell_type": "markdown",
   "metadata": {},
   "source": [
    "<a name='section_3_1'></a>\n",
    "\n",
    "<h2 style=\"border:1px; border-style:solid; padding: 0.25em; color: #FFFFFF; background-color: #90409C\">CTA3.1 Overview</h2>  \n",
    "\n",
    "| [3.0 Libraries and Settings](#section_3_0) | [3.1 Overview](#section_3_1) | [3.2 Task A](#section_3_2) | [3.3 Task B](#section_3_3) | [3.4 Task C](#section_3_4) |"
   ]
  },
  {
   "cell_type": "markdown",
   "metadata": {},
   "source": [
    "<h3>Learning objectives:</h3>\n",
    "\n",
    "<ol>\n",
    " <li>To comprehend the meaning of Gauss's Law.</li>\n",
    " <li>To understand why Gauss's Law is useful to calculate electric fields in situations with high degrees of symmetry: planar, cylindrical, and spherical.</li>\n",
    " <li>To reflect about the meaning of \"infinite\" in physics i.e. \"how and when is an infinite cylinder approximation useful if a charged cylinder is reality finite?\"  \n",
    "</ol>"
   ]
  },
  {
   "cell_type": "markdown",
   "metadata": {},
   "source": [
    "<h3>Deliverables: </h3>\n",
    "    \n",
    " Submit snapshots of your virtual experiments with your reflections for each part."
   ]
  },
  {
   "cell_type": "markdown",
   "metadata": {},
   "source": [
    "<h3>Background</h3>\n",
    "\n",
    "<b>Gauss's law</b> states that the <b>flux</b> of the electric field $\\vec{E}$ through any <b>closed</b> surface, also called a <b>Gaussian surface</b>, is equal to the net charge enclosed  ($Q_{enc}$)\n",
    "  divided by the vacuum permittivity ($\\epsilon_0$)\n",
    "\n",
    "$$\\Phi = \\oint \\vec{E}.\\vec{dA} = \\frac{Q_{enc}}{\\epsilon_0}$$"
   ]
  },
  {
   "cell_type": "markdown",
   "metadata": {},
   "source": [
    "<a name='section_3_2'></a>\n",
    "\n",
    "<h2 style=\"border:1px; border-style:solid; padding: 0.25em; color: #FFFFFF; background-color: #90409C\">CTA3.2 Task A</h2>  \n",
    "\n",
    "| [3.0 Libraries and Settings](#section_3_0) | [3.1 Overview](#section_3_1) | [3.2 Task A](#section_3_2) | [3.3 Task B](#section_3_3) | [3.4 Task C](#section_3_4) |"
   ]
  },
  {
   "cell_type": "markdown",
   "metadata": {},
   "source": [
    "<h3>Task A.1: Visualize the Electric Field of a Uniformly-Charged Insulating Sphere</h3>\n",
    "\n",
    "The code below defines a function called `calculate_E` that takes three inputs, the charge `q`, and the coordinates of two points `r_S` and `r_P`. The function calculates the electric field vector `E` at point `P` due to a point charge `q` located at point `S`, using Coulomb's law.\n",
    "\n",
    "The first step of the function is to define the constants `e0` and `k` in SI units. `e0` is the electric constant or vacuum permittivity, and `k` is the Coulomb constant.\n",
    "\n",
    "Next, the function calculates the distance `rSP` between the point charge and point `P` using the distance formula, which involves the coordinates of both points.\n",
    "\n",
    "Finally, the function computes the x, y, and z components of the electric field vector `E` at point `P` using Coulomb's law, which involves `q`, `rSP`, and the coordinates of the two points. The components are then returned as a list `[E_x, E_y, E_z]`, representing the x, y, and z components of E, respectively.\n",
    "\n",
    "<b>Please fill in the missing lines in the following cell. We provide some test cases so that you can check your work.</b>"
   ]
  },
  {
   "cell_type": "code",
   "execution_count": null,
   "metadata": {},
   "outputs": [],
   "source": [
    "#>>>RUN: CTA3.2-runcell01\n",
    "\n",
    "# Task A1\n",
    "source_radius = 1 #m\n",
    "distance_E = 0.5  #m\n",
    "charge = 1e-9  # C\n",
    "draw_charged_sphere(charge=charge,radius=source_radius,distance=distance_E)\n"
   ]
  },
  {
   "cell_type": "markdown",
   "metadata": {},
   "source": [
    "<h3>Task A.2: Choose the Shape, Dimensions and Location of the Gaussian Surface for a Spherical Source</h3>\n",
    "\n",
    "Assume you want to calculate the electric field produced by the charge configurations you built in 1a. How would you proceed?\n",
    "\n",
    "Let's explore to decide which Gaussian surfaces would be helpful!\n",
    "\n",
    "You can use the function <b>draw_Gaussian_surface( )</b>. This function adds a Gaussian surface to the above scene, it can be either a sphere or a cylinder. This function takes the following information:\n",
    "<ol>\n",
    "    <li>The shape of the Gaussian surface: \"sphere\" or \"cylinder\". </li>\n",
    "    <li>The dimensions of the Gaussian surface: \n",
    "    <ul>\n",
    "    <li>For a sphere: radius = radius of the sphere (centered at the origin for simplicity).</li>\n",
    "    <li>For a cylinder: radius = radius of the two circular bases of the cylinder and base_centers = [[$x_1, y_1, z_1$],[$x_2, y_2, z_2$]] is a list of the coordinates of the centers of the two circular bases. </li>\n",
    "    </ul>\n",
    "    </li>\n",
    "</ol>\n",
    "\n",
    "The resulting Gaussian surface has its center at the origin of the coordinates system. Based on your observations about the symmetries of the field in task 1a, you should choose the appropriate Gaussian surface to match the symmetry of the field that you want to calculate. You must also choose the dimensions, based on whether you want to calculate the electric field inside or outside the charge distribution. \n",
    "\n",
    "<b>Uncomment one of the choices in the cell below by removing the \"#' symbol and fill it with the correct dimensions to add the correct Gaussian surface. You should use the variables defined above (e.g. source_radius, point_distance) to fill in the missing arguments.</b> You can also copy the correct line to the cell from task 1a and run them together.\n",
    "\n",
    "Proceed to documenting your work as follows:\n",
    "<ul>\n",
    "<li>Draw the Gaussian surfaces for <span style=\"color:blue\">all four cases:</span> +/- charged sphere, and Guassian surface inside and outside the charged sphere.</li>\n",
    "<li><span style=\"color:blue\">Take screenshots</span> of 2 of your setups that include the Gaussian surfaces using a clear camera angle.</li>\n",
    "<li><span style=\"color:blue\">Describe</span>, using yor own words, how the integral for electric flux through the Gaussian surface $\\Phi = \\oint \\vec{E}.\\vec{dA}$ simplifies because of symmetry and the correct choice of the Gaussian surface. </li>\n",
    "</ul>"
   ]
  },
  {
   "cell_type": "code",
   "execution_count": null,
   "metadata": {},
   "outputs": [],
   "source": [
    "#>>>RUN: CTA3.2-runcell02\n",
    "\n",
    "source_radius = 2 #m\n",
    "distance_E = 3  #m\n",
    "charge = 1e-9 \n",
    "draw_charged_sphere(charge=charge,radius=source_radius,distance=distance_E)\n",
    "\n",
    "#  Read Task 1b before attempting this part \n",
    "#draw_Gaussian_surface(\"sphere\",radius = FILL IN) \n",
    "#draw_Gaussian_surface(\"cylinder\",radius = FILL IN,base_centers=FILL IN)\n",
    "\n",
    "\n",
    "#   Solution:\n",
    "draw_Gaussian_surface(\"sphere\",radius = distance_E)\n"
   ]
  },
  {
   "cell_type": "markdown",
   "metadata": {},
   "source": [
    "<a name='section_3_3'></a>\n",
    "\n",
    "<h2 style=\"border:1px; border-style:solid; padding: 0.25em; color: #FFFFFF; background-color: #90409C\">CTA3.3 Task B</h2>  \n",
    "\n",
    "| [3.0 Libraries and Settings](#section_3_0) | [3.1 Overview](#section_3_1) | [3.2 Task A](#section_3_2) | [3.3 Task B](#section_3_3) | [3.4 Task C](#section_3_4) |"
   ]
  },
  {
   "cell_type": "markdown",
   "metadata": {},
   "source": [
    "<h3>Task B.1: Visualize the Electric Field of a Uniformly-Charged Insulating Cylinder</h3>\n",
    "\n",
    "In this task, you will be repeating the same steps done in Task 1 but for a uniformly charged cylinder of finite length.  You will use the function <b>draw_charged_cylinder( )</b> that draws the charged cylinder with its axis coinciding  with the x-axis and its center coinciding with the origin of the $(x,y,z)$ coordinate system. (The coordinate system is not shown in the visualization). This function also draws the E-field produced by the cylinder at a few points in space that are at a perpendicular distance, <b>distance_E</b>, from the axis of the cylinder.\n",
    "\n",
    "The function <b>draw_charged_cylinder( )</b> takes four arguments:\n",
    "\n",
    "<ol>\n",
    "    <li><b>lambda0:</b> charge per unit length of the cylinder (in $C/m$).</li>\n",
    "    <li><b>radius:</b> radius of the circular bases (in $m$).</li>\n",
    "    <li><b>length:</b> total length of the cylinder (in $m$).</li>\n",
    "    <li><b>distance_E:</b> perpendicular distance between the cylinder axis and the point at which the E field is calculated and visualized (in $m$). (The E field is not calculated along the axis of the cylinder).</li>\n",
    "</ol>\n",
    "\n",
    "The cylinder is red if it is positively charged and blue if negatively charged.\n",
    "\n",
    "<ul>\n",
    "    <li><span style=\"color:blue\">Experiment</span> with all the arguments to generate the E field produced by positive and negative cylinders. Draw the E-field vectors at points inside and outside of the cylinders [Please keep the charge density in the $nC/m$ order of magnitude (~1e-9 $C/m$)].</li>\n",
    "    <li><span style=\"color:blue\">Comment</span> on the symmetry of the arrows you obtain at a particular distance. What happens at the edges of the cylinder? What happens to the E-field vectors at the points close to the surface of the cylinder vs. the E-field vectors at points far away from it?</li>\n",
    "    <li>Based on your observations, <span style=\"color:blue\">Explain</span> the reasons why approximating the cylinder as \"infinite\" is necessary for applying Gauss's Law, and in what cases this approximation can still be a good one. </li>\n",
    "</ul>"
   ]
  },
  {
   "cell_type": "code",
   "execution_count": null,
   "metadata": {},
   "outputs": [],
   "source": [
    "#>>>RUN: CTA3.3-runcell01\n",
    "\n",
    "#   Task B1  \n",
    "distance_E = 1.5 # m\n",
    "length = 6  # m\n",
    "radius = 1 # m\n",
    "density = 1e-9 # C/m^3\n",
    "draw_charged_cylinder(lambda0=density,radius=radius,length=length,distance = distance_E)\n",
    "\n"
   ]
  },
  {
   "cell_type": "markdown",
   "metadata": {},
   "source": [
    "<h3>Task B.2: Choose the Shape, Dimensions and Location of the Gaussian Surface for a Cylinderical Source</h3>\n",
    "\n",
    "Use again the function <b>draw_Gaussian_surface( ) </b> to draw the correct Gaussian surface for the charged cylinder. Fill in the needed values:\n",
    "<ol>\n",
    "    <li>The shape: \"sphere\" or \"cylinder\".</li>\n",
    "    <li>The dimensions of the Gaussian surface: \n",
    "    <ul>\n",
    "    <li>For a sphere: radius = radius of the sphere (centered at the origin for simplicity).</li>\n",
    "    <li>For a cylinder: radius = radius of the two circular bases of the cylinder and base_centers = [[$x_1, y_1, z_1$],[$x_2, y_2, z_2$]] is a list of the coordinates of the centers of the two circular bases. </li>\n",
    "    </ul>\n",
    "    </li>\n",
    "</ol>\n",
    "\n",
    "<b>Uncomment one of the choices below by removing the \"#' symbol and fill it with the correct dimensions to add the correct Gaussian surface. You should use some of the variables defined above (e.g. distance, length, radius,..) to fill in the missing arguments.</b> \n",
    "\n",
    "Proceed to documenting your work as follows:\n",
    "\n",
    "<ul>   \n",
    "<li>Draw the Gaussian surfaces for <span style=\"color:blue\">all four cases:</span> cylinder positively and negatively charged, and Gaussian surface inside/outside the charged cylinder.</li><li><span style=\"color:blue\">Take screenshots</span> of 2 of your setups that include the Gaussian surfaces using a clear camera angle.</li>\n",
    "<li><span style=\"color:blue\">Describe</span>, using yor own words, how the integral for electirc flux through the Gaussian surface $\\Phi = \\oint \\vec{E}.\\vec{dA}$ simplifies because of symmetry and the correct choice of the Gaussian surface. </li>\n",
    "</ul>\n",
    "\n"
   ]
  },
  {
   "cell_type": "code",
   "execution_count": null,
   "metadata": {},
   "outputs": [],
   "source": [
    "#>>>RUN: CTA3.3-runcell02\n",
    "\n",
    "distance_E = 1.5 # m\n",
    "length = 6  # m\n",
    "radius = 1 # m\n",
    "density = 1e-9 # C/m^3\n",
    "draw_charged_cylinder(lambda0=density,radius=radius,length=length,distance = distance_E)\n",
    "\n",
    "#  Pick and specify coordinates for the correct Gaussian Surface\n",
    "#draw_Gaussian_surface(\"sphere\",radius = FILL IN) \n",
    "#draw_Gaussian_surface(\"cylinder\",radius = FILL IN,base_centers=FILL IN)\n",
    "\n",
    "#Solution:\n",
    "draw_Gaussian_surface(\"cylinder\",radius = distance_E,base_centers=[[-length/4,0,0],[length/4,0,0]])\n"
   ]
  },
  {
   "cell_type": "markdown",
   "metadata": {},
   "source": [
    "<a name='section_3_4'></a>\n",
    "\n",
    "<h2 style=\"border:1px; border-style:solid; padding: 0.25em; color: #FFFFFF; background-color: #90409C\">CTA3.4 Task C</h2>  \n",
    "\n",
    "| [3.0 Libraries and Settings](#section_3_0) | [3.1 Overview](#section_3_1) | [3.2 Task A](#section_3_2) | [3.3 Task B](#section_3_3) | [3.4 Task C](#section_3_4) |"
   ]
  },
  {
   "cell_type": "markdown",
   "metadata": {},
   "source": [
    "<h3>Task C.1: Visualize the Electric Field of a Uniformly-Charged Insulating Slab</h3>\n",
    "\n",
    "Finally, our third symmetry is the planar one. \n",
    "\n",
    "Use the function <b>draw_charged_slab( ) </b> to draw a finite slab that is parallel to the x-y plane and its center coincides with the origin of the coordinate system. (The coordinate system is not shown in the visualization.) This function also draws the E-field vectors at points at a perpendicular distance, <b>distance_E</b>, with respect to the x-y plane. \n",
    "\n",
    "This function takes five arguments:\n",
    "\n",
    "<ol>\n",
    "    <li><b>rho: </b> charge per unit volume of the slab (in $C/m^3$).</li>\n",
    "    <li><b>length: </b>slab length along x  (in $m$).</li>\n",
    "    <li><b>height: </b>slab height along y  (in $m$).</li>\n",
    "    <li><b>width: </b>slab width along z [should be smaller than length $\\&$ height] (in $m$).</li>\n",
    "    <li><b>distance_E: </b>distance above/below the x-y plane (along z) at which the E field is calculated and visualized (in $m$).</li>\n",
    "</ol>\n",
    "\n",
    "\n",
    "<ul>\n",
    "    <li><span style=\"color:blue\">Experiment</span> with all arguments to generate the E field for positive and negative slabs, both inside and outside of the slabs [Please keep the charge density in the $nC/m^3$ order of magnitude (~1e-9 $C/m^3$)].</li>\n",
    "    <li><span style=\"color:blue\">Comment</span> on the symmetry of the arrows you obtain at a particular distance. What happens at the edges of the slab? What happens if the points are very close to the surface of the slab vs. far away from it?</li>\n",
    "    \n",
    "</ul>\n"
   ]
  },
  {
   "cell_type": "code",
   "execution_count": null,
   "metadata": {},
   "outputs": [],
   "source": [
    "#>>>RUN: CTA3.4-runcell01\n",
    "\n",
    "#  Task C1\n",
    "length = 10 #x in m\n",
    "height = 10 #y in m\n",
    "width = 1 #full width/thickness in m\n",
    "distance_E = 1 #above/below the center of the slab in m\n",
    "density = 1e-9 # in C/m^3\n",
    "draw_charged_slab(rho=density,length=length,height=height,width=width,distance=distance_E)"
   ]
  },
  {
   "cell_type": "markdown",
   "metadata": {},
   "source": [
    "<h3>Task C.2: Choose the Shape, Dimensions and Location of the Gaussian Surface for a Charged Slab</h3>\n",
    "\n",
    "Now, choose the correct Gaussian surface and fill in the needed values:\n",
    "<ol>\n",
    "    <li>The shape: \"sphere\" or \"cylinder\".</li>\n",
    "    <li>The dimensions of the Gaussian surface: \n",
    "    <ul>\n",
    "    <li>For a sphere: radius = radius of the sphere (centered at the origin for simplicity).</li>\n",
    "    <li>For a cylinder: radius = radius of the two circular bases of the cylinder and base_centers = [[$x_1, y_1, z_1$],[$x_2, y_2, z_2$]] is a list of the coordinates of the centers of the two circular bases. </li>\n",
    "    </ul>\n",
    "    </li>\n",
    "</ol>\n",
    "\n",
    "<b>Uncomment one of the choices below by removing the \"#' symbol and fill it with the correct dimensions to add the correct Gaussian surface. You should use some of the variables defined above (e.g. distance, length, radius,..) to fill in the missing arguments.</b> \n",
    "<ul>\n",
    "<li>Draw the Gaussian surfaces for <span style=\"color:blue\">all four cases:</span>positively and negatively charged slab, at points inside and outside the slab.</li><li><span style=\"color:blue\">Take screenshots</span> of 2 of your setups that include the Gaussian surface using a clear camera angle.</li>\n",
    "<li><span style=\"color:blue\">Describe</span>, using your own words, how the integral for electirc flux through the Gaussian surface $\\Phi = \\oint \\vec{E}.\\vec{dA}$ simplifies because of symmetry and the correct choice of the Gaussian surface.</li>\n",
    "</ul>\n",
    "\n"
   ]
  },
  {
   "cell_type": "code",
   "execution_count": null,
   "metadata": {},
   "outputs": [],
   "source": [
    "#>>>RUN: CTA3.4-runcell02\n",
    "\n",
    "length = 10 #x in m\n",
    "height = 10 #y in m\n",
    "width = 1 #full width/thickness in m\n",
    "distance_E = 1 #above/below the center of the slab in m\n",
    "density = 1e-9 # in C/m^3\n",
    "draw_charged_slab(rho=density,length=length,height=height,width=width,distance=distance_E)\n",
    "\n",
    "#  Pick and specify coordinates for the correct Gaussian Surface\n",
    "#draw_Gaussian_surface(\"sphere\",radius = FILL IN) \n",
    "#draw_Gaussian_surface(\"cylinder\",radius = FILL IN,base_centers=FILL IN)\n",
    "\n",
    "#Solution:\n",
    "draw_Gaussian_surface(\"cylinder\",radius = 1,base_centers=[[0,0,distance_E],[0,0, - distance_E]])\n"
   ]
  }
 ],
 "metadata": {
  "kernelspec": {
   "display_name": "Python 3 (ipykernel)",
   "language": "python",
   "name": "python3"
  },
  "language_info": {
   "codemirror_mode": {
    "name": "ipython",
    "version": 3
   },
   "file_extension": ".py",
   "mimetype": "text/x-python",
   "name": "python",
   "nbconvert_exporter": "python",
   "pygments_lexer": "ipython3",
   "version": "3.9.13"
  },
  "vscode": {
   "interpreter": {
    "hash": "aee8b7b246df8f9039afb4144a1f6fd8d2ca17a180786b69acc140d282b71a49"
   }
  }
 },
 "nbformat": 4,
 "nbformat_minor": 1
}
