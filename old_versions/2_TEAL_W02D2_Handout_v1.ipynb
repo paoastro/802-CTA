{
 "cells": [
  {
   "cell_type": "markdown",
   "metadata": {},
   "source": [
    "<h1 style=\"color: #90409C\"><ins>COMPUTATIONAL THINKING ACTIVITY 2:</ins>\n",
    "\n",
    "Visualizing the Electric Field of Discrete Charge Distributions</h1>"
   ]
  },
  {
   "cell_type": "markdown",
   "metadata": {},
   "source": [
    "<h4 style=\"color: #90409C\"><i>This notebook was authored by the 8.02 Course Team, Copyright 2023 MIT All Rights Reserved.</i></h4>\n",
    "\n",
    "<a name='section_2_0'></a>\n",
    "\n",
    "<h2 style=\"border:1px; border-style:solid; padding: 0.25em; color: #FFFFFF; background-color: #90409C\">CTA2.0 Libraries and Settings</h2>\n",
    "\n",
    "| [2.0 Libraries and Settings](#section_2_0) | [2.1 Overview](#section_2_1) | [2.2 Completing the Code](#section_2_2) | [2.3 Visualizations](#section_2_3) | [2.4 Additional Tasks](#section_2_4) |"
   ]
  },
  {
   "cell_type": "markdown",
   "metadata": {},
   "source": [
    "**<font color=\"red\">WARNING:** <b><font color=\"red\">If you are working on-line and close the tab you will loose your work! Remember to save your work from time to time by clicking on the cloud with the arrow pointing down. If you accidentally close the tab, you can load the notebook again and recover your work by clicking on the the cloud with the arrow pointing up.</font></b>"
   ]
  },
  {
   "cell_type": "markdown",
   "metadata": {},
   "source": [
    "**Importing Libraries:** Before beginning, run the cell below to import the relevant libraries for this notebook.\n"
   ]
  },
  {
   "cell_type": "code",
   "execution_count": null,
   "metadata": {},
   "outputs": [],
   "source": [
    "#>>>RUN: CTA2.0-runcell01\n",
    "\n",
    "from vpython import *  #Here we're importing all the vpython package"
   ]
  },
  {
   "cell_type": "markdown",
   "metadata": {},
   "source": [
    "**Setting Default Figure Parameters:** The following code cell sets default values for figure parameters."
   ]
  },
  {
   "cell_type": "code",
   "execution_count": null,
   "metadata": {},
   "outputs": [],
   "source": [
    "#>>>RUN: CTA2.0-runcell02\n",
    "\n",
    "#set plot resolution\n",
    "%config InlineBackend.figure_format = 'retina'\n",
    "\n",
    "#set default figure parameters\n",
    "plt.rcParams['figure.figsize'] = (9,6)\n",
    "\n",
    "medium_size = 12\n",
    "large_size = 15\n",
    "\n",
    "plt.rc('font', size=medium_size)          # default text sizes\n",
    "plt.rc('xtick', labelsize=medium_size)    # xtick labels\n",
    "plt.rc('ytick', labelsize=medium_size)    # ytick labels\n",
    "plt.rc('legend', fontsize=medium_size)    # legend\n",
    "plt.rc('axes', titlesize=large_size)      # axes title\n",
    "plt.rc('axes', labelsize=large_size)      # x and y labels\n",
    "plt.rc('figure', titlesize=large_size)    # figure title"
   ]
  },
  {
   "cell_type": "markdown",
   "metadata": {},
   "source": [
    "<a name='section_2_1'></a>\n",
    "\n",
    "<h2 style=\"border:1px; border-style:solid; padding: 0.25em; color: #FFFFFF; background-color: #90409C\">CTA2.1 Overview</h2>  \n",
    "\n",
    "| [2.0 Libraries and Settings](#section_2_0) | [2.1 Overview](#section_2_1) | [2.2 Completing the Code](#section_2_2) | [2.3 Visualizations](#section_2_3) | [2.4 Additional Tasks](#section_2_4) |"
   ]
  },
  {
   "cell_type": "markdown",
   "metadata": {},
   "source": [
    "The electric field produced by a point charge $q$ at a point P in space is given by \n",
    "\n",
    "\n",
    "$$\\vec{\\mathbf{E}} =\\frac{kq}{| \\vec{\\mathbf{r}}_P-\\vec{\\mathbf{r}}_S |^2}\\frac{( \\vec{\\mathbf{r}}_P-\\vec{\\mathbf{r}}_S )}{| \\vec{\\mathbf{r}}_P-\\vec{\\mathbf{r}}_S |}=kq\\frac{( \\vec{\\mathbf{r}}_P-\\vec{\\mathbf{r}}_S )}{| \\vec{\\mathbf{r}}_P-\\vec{\\mathbf{r}}_S |^3}  \\;\\;\\; \\mbox{(eq. 1)},$$\n",
    "\n",
    "\n",
    "where \n",
    "\n",
    "$k=\\frac{1}{4\\pi\\epsilon_0}$ is the Coulomb constant\n",
    "\n",
    "$\\vec{\\mathbf{r}}_S $= source point, or the position of the charge producing the E-field\n",
    "\n",
    "$\\vec{\\mathbf{r}}_P $= field point, or the position of point P where we want to calculate the E-field.\n",
    "\n",
    "\n",
    "To find the x,y and z components of the E-field, we need to express the vectors $\\vec{\\mathbf{r}}_S $ and $\\vec{\\mathbf{r}}_P $ in cartesian coordinates. If the coordinates of the source point are:\n",
    "\n",
    "$$\\vec{\\mathbf{r}}_S = (x_S, y_S, z_S)$$\n",
    "\n",
    "and the coordinates of the field point are:\n",
    "\n",
    "$$\\vec{\\mathbf{r}}_P = (x_P, y_P, z_P)$$\n",
    "\n",
    "then the vector from the source S to point P is given by:\n",
    "\n",
    "$$\\vec{\\mathbf{r}}_P-\\vec{\\mathbf{r}}_S = (x_P-x_S)\\; \\hat{\\mathbf{i}} + (y_P-y_S)\\; \\hat{\\mathbf{j}} + (z_P-z_S) \\;\\hat{\\mathbf{k}} \\;\\;\\;\\; \\mbox{(eq. 2)}$$\n",
    "\n",
    "Note that the denominator in the expression of the E-field in (eq. 1) is the <b>cube</b> of the distance between the charge $q$ and point P. We will call this distance $r_{SP}$ and it is defined as \n",
    "\n",
    "$$r_{SP} = |\\vec{\\mathbf{r}}_P-\\vec{\\mathbf{r}}_S|  \\;\\;\\; \\mbox{(eq. 3)}$$\n",
    "\n",
    "The above equations should help you when you fill in the function `Calculate_E( )` in the code below. "
   ]
  },
  {
   "cell_type": "markdown",
   "metadata": {},
   "source": [
    "<a name='section_2_2'></a>\n",
    "\n",
    "<h2 style=\"border:1px; border-style:solid; padding: 0.25em; color: #FFFFFF; background-color: #90409C\">CTA2.2 Completing the Code</h2>  \n",
    "\n",
    "| [2.0 Libraries and Settings](#section_2_0) | [2.1 Overview](#section_2_1) | [2.2 Completing the Code](#section_2_2) | [2.3 Visualizations](#section_2_3) | [2.4 Additional Tasks](#section_2_4) |"
   ]
  },
  {
   "cell_type": "markdown",
   "metadata": {},
   "source": [
    "The code below defines a function called `calculate_E` that takes three inputs, the charge `q`, and the coordinates of two points `r_S` and `r_P`. The function calculates the electric field vector `E` at point `P` due to a point charge `q` located at point `S`, using Coulomb's law.\n",
    "\n",
    "The first step of the function is to define the constants `e0` and `k` in SI units. `e0` is the electric constant or vacuum permittivity, and `k` is the Coulomb constant.\n",
    "\n",
    "Next, the function calculates the distance `rSP` between the point charge and point `P` using the distance formula, which involves the coordinates of both points.\n",
    "\n",
    "Finally, the function computes the x, y, and z components of the electric field vector `E` at point `P` using Coulomb's law, which involves `q`, `rSP`, and the coordinates of the two points. The components are then returned as a list `[E_x, E_y, E_z]`, representing the x, y, and z components of E, respectively.\n",
    "\n",
    "<b>Please fill in the missing lines in the following cell. We provide some test cases so that you can check your work.</b>"
   ]
  },
  {
   "cell_type": "code",
   "execution_count": null,
   "metadata": {},
   "outputs": [],
   "source": [
    "#>>>RUN: CTA2.2-runcell01\n",
    "\n",
    "#Here we will complete a function that calculates the E-field of a point charge at some point P in space\n",
    "\n",
    "def calculate_E(q,r_S,r_P):\n",
    "    \n",
    "    \"\"\"The function takes the following inputs:\n",
    "    q: value of the point charge in C,\n",
    "    r_S: [x_S,y_S,z_S] coordinates of the source point in m,\n",
    "    r_P: [x_P,y_P,z_P] coordinates of point P in m\n",
    "    The function returns [E_x,E_y,E_z], the x,y & z components of the E field at point P in SI units\"\"\"\n",
    " \n",
    "    #Defining the constants epsilon_0 and k in SI units\n",
    "    \n",
    "    e0 = 8.854187817e-12  \n",
    "    k = 1.0 / (4 * pi * e0)\n",
    "\n",
    "    # First: Calculate the distance rSP between the charge and point P: \n",
    "    # Reminder 1: use sqrt( ) for square root and x**2 for x^2. \n",
    "    # Reminder 2: the coordinates are elements of a list; for example, for the position of the charge\n",
    "    # x_S = r_S[0], y_S= r_S[1], z_S=r_S[2]. \n",
    "\n",
    "    #rSP = UNCOMMENT AND FILL IN HERE AND THE PARTS WHERE IT SAYS FILL IN\n",
    "    rSP = sqrt(((r_P[0]-r_S[0])**2) + ((r_P[1]-r_S[1])**2) + ((r_P[2]-r_S[2])**2))\n",
    "         \n",
    "    \n",
    "    # Second: Calculate the field components using constants, rSP, and the coordinates of q and P as needed\n",
    "    # Hint  Review (eq. 1) for the E-field.\n",
    "    \n",
    "    #E_x = FILL IN\n",
    "    #E_y = FILL IN\n",
    "    #E_z = FILL IN\n",
    "    \n",
    "    E_x = k*q *( (r_P[0]-r_S[0]) / rSP**3) \n",
    "    E_y = k*q *( (r_P[1]-r_S[1]) / rSP**3) \n",
    "    E_z = k*q *( (r_P[2]-r_S[2]) / rSP**3) \n",
    "\n",
    "     \n",
    "    return([E_x,E_y,E_z])"
   ]
  },
  {
   "cell_type": "code",
   "execution_count": null,
   "metadata": {},
   "outputs": [],
   "source": [
    "#>>>RUN: CTA2.2-runcell02\n",
    "\n",
    "# Manual test cases:\n",
    "print(calculate_E(1e-9,[0,0,0],[0,2,0]),\"N/C\")       #should return [0.0, 2.246887946999478, 0.0] N/C\n",
    "print(calculate_E(-5e-9,[-2,1,0],[0,-3,2]),\"N/C\")    #should return [-0.7644068026886633, 1.5288136053773267, -0.7644068026886633] N/C\n",
    "print(calculate_E(-2e-9,[-1,3,-2],[-4,-3,-3]),\"N/C\") #should return [0.17284463695641594, 0.3456892739128319, 0.05761487898547198] N/C"
   ]
  },
  {
   "cell_type": "markdown",
   "metadata": {},
   "source": [
    "<a name='section_2_3'></a>\n",
    "\n",
    "\n",
    "<h2 style=\"border:1px; border-style:solid; padding: 0.25em; color: #FFFFFF; background-color: #90409C\">CTA2.3 Visualizations</h2>  \n",
    "\n",
    "| [2.0 Libraries and Settings](#section_2_0) | [2.1 Overview](#section_2_1) | [2.2 Completing the Code](#section_2_2) | [2.3 Visualizations](#section_2_3) | [2.4 Additional Tasks](#section_2_4) |"
   ]
  },
  {
   "cell_type": "markdown",
   "metadata": {},
   "source": [
    "Only proceed to the following part if you finished Task 1. The whole visualization program is complete and ready to use, but it will run only after you run the previous part correctly.\n",
    "Please run the cell below without editing it."
   ]
  },
  {
   "cell_type": "code",
   "execution_count": null,
   "metadata": {},
   "outputs": [],
   "source": [
    "#>>>RUN: CTA2.3-runcell01\n",
    "\n",
    "# This is the function to draw the configuration and the fields. You don't need to read through this function\n",
    "# Just treat it as a black box that draws the configuration (unless you're interested in knowing how it works :) )\n",
    "def draw_configuration(charges,loc,points,draw_contributions = True):\n",
    "    \"\"\"the E field produced by positive charges is in red, the E field produced by negative charges is blue  and the net electric field \n",
    "    at a given location is in green\"\"\"\n",
    "    scene = canvas() \n",
    "    for point in points:\n",
    "        Es = [calculate_E(charges[index],loc[index],point) for index in range(len(charges))]\n",
    "        E_tot = [sum(E) for E in zip(*Es)]\n",
    "        colors = [color.blue if charge<0 else color.red for charge in charges]\n",
    "        radii = [0.5e9*abs(charge) for charge in charges]\n",
    "        for index in range(len(charges)):\n",
    "            sphere(pos=vector(loc[index][0],loc[index][1],loc[index][2]), radius=radii[index], color=colors[index])\n",
    "        if mag(vector(E_tot[0], E_tot[1],E_tot[2])) >0:\n",
    "            Earrow_tot=arrow(pos=vector(point[0],point[1],point[2]), axis=vector(E_tot[0], E_tot[1],E_tot[2]), shaftwidth=0.05,color=color.green)\n",
    "        if draw_contributions:\n",
    "            for index in range(len(Es)):\n",
    "                E = Es[index]\n",
    "                arrow(pos=vector(point[0],point[1],point[2]), axis=vector(E[0], E[1],E[2]),  shaftwidth=0.03,color=colors[index])\n"
   ]
  },
  {
   "cell_type": "markdown",
   "metadata": {},
   "source": [
    "<h3>Visualize the electric field of a dipole along its axis of symmetry</h3>\n",
    "\n",
    "TODO CHANGE FIGURE\n",
    "\n",
    "<img src=\"images/dipole.png\" height=20 />\n",
    "\n",
    "Now, we will use the program we built to draw the E-field of a dipole at different points along the x-axis. This dipole dipole lies along the y-axis. The origin of the coordinate system is at the middle point between the two charges.\n",
    "\n",
    "In the simulation we use  $Q = {10}^{-10} C$ and the distance between charges $2a= 1m$. Run the cell below. You can add points or change the points where the E-field is calculated and visualized."
   ]
  },
  {
   "cell_type": "code",
   "execution_count": null,
   "metadata": {},
   "outputs": [],
   "source": [
    "#>>>RUN: CTA2.3-runcell02\n",
    "\n",
    "charges = [1e-10,- 1e-10] #  List of the values of the charges in C\n",
    "locations = [[0,1.5,0],[0,-1.5,0]] # List of lists of positions of charges[[x_S1,y_S1,z_S1],[x_S2,y_S2,z_S2],...] \n",
    "points = [[0,0,0],[0.5,0,0],[-0.5,0,0],[-1,0,0],[1,0,0],[-2,0,0],[2,0,0],[-1.5,0,0],[1.5,0,0]] # List of lists [x_P1,y_P1,z_P1,[x_P2,y_P2,z_P2],...]\n",
    "# points is the list of positions (in m) of points where to calculate E-field \n",
    "draw_configuration(charges,locations,points)\n"
   ]
  },
  {
   "cell_type": "markdown",
   "metadata": {},
   "source": [
    "<a name='section_2_4'></a>\n",
    "\n",
    "\n",
    "<h2 style=\"border:1px; border-style:solid; padding: 0.25em; color: #FFFFFF; background-color: #90409C\">CTA2.4 Additional Tasks</h2>  \n",
    "\n",
    "| [2.0 Libraries and Settings](#section_2_0) | [2.1 Overview](#section_2_1) | [2.2 Completing the Code](#section_2_2) | [2.3 Visualizations](#section_2_3) | [2.4 Additional Tasks](#section_2_4) |"
   ]
  },
  {
   "cell_type": "markdown",
   "metadata": {},
   "source": [
    "<h3>From point charges to a continuous distribution</h3>\n",
    "\n",
    "Now, we will use the program we built to draw the approximate E-field of a charged ring at different points along the x-axis. \n",
    "\n",
    "In the simulation we use  $Q = {10}^{-10} C$ Run the cell below. You can add points or change the points where the E-field is calculated and visualized."
   ]
  },
  {
   "cell_type": "code",
   "execution_count": null,
   "metadata": {},
   "outputs": [],
   "source": [
    "#>>>RUN: CTA2.4-runcell01\n",
    "\n",
    "#TODO\n",
    "charges = \n",
    "locations = \n",
    "points = \n",
    "draw_configuration(charges,locations,points)"
   ]
  },
  {
   "cell_type": "markdown",
   "metadata": {},
   "source": [
    "We strongly encourage you to <b>explore more</b> charge configurations and play around with the values and location of charges. For example, plot the electric field of the dipole at points not along the symmetry axis. Or think of any charge configuration you're interested in and explore the fields it creates!!!\n",
    "You can use download this file (File-> Download As -> Notebook) and upload it again to this link to use this tool with vectors of your choice in the future!"
   ]
  }
 ],
 "metadata": {
  "kernelspec": {
   "display_name": "Python 3 (ipykernel)",
   "language": "python",
   "name": "python3"
  },
  "language_info": {
   "codemirror_mode": {
    "name": "ipython",
    "version": 3
   },
   "file_extension": ".py",
   "mimetype": "text/x-python",
   "name": "python",
   "nbconvert_exporter": "python",
   "pygments_lexer": "ipython3",
   "version": "3.9.13"
  },
  "vscode": {
   "interpreter": {
    "hash": "aee8b7b246df8f9039afb4144a1f6fd8d2ca17a180786b69acc140d282b71a49"
   }
  }
 },
 "nbformat": 4,
 "nbformat_minor": 1
}
