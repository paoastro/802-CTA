{
 "cells": [
  {
   "cell_type": "markdown",
   "metadata": {},
   "source": [
    "<h1 style=\"color: #90409C\"><ins>COMPUTATIONAL THINKING ACTIVITY 2:</ins>\n",
    "\n",
    "Visualizations Using Gauss's Law</h1>"
   ]
  },
  {
   "cell_type": "markdown",
   "metadata": {},
   "source": [
    "<h4 style=\"color: #90409C\"><i>This notebook was authored by the ES.802 + 8.02 Course Team, Copyright 2023 MIT All Rights Reserved.</i></h4>\n",
    "\n",
    "<a name='section_3_0'></a>\n",
    "\n",
    "<h2 style=\"border:1px; border-style:solid; padding: 0.25em; color: #FFFFFF; background-color: #90409C\">CTA2.0 Libraries and Settings</h2>\n",
    "\n",
    "| [2.0 Libraries and Settings](#section_2_0) | [2.1 Overview](#section_2_1) | [2.2 Gauss's Law or Not?](#section_2_2) | [2.3 Other Symmetries](#section_2_3) | [2.4 Additional Explorations](#section_2_4) |"
   ]
  },
  {
   "cell_type": "markdown",
   "metadata": {},
   "source": [
    "**Importing Libraries:** Before beginning, run the cell below to import the relevant libraries for this notebook. The following cell also imports our ready code to draw E field and Gaussian surfaces at given locations. If you want to take a look at how we implemented the code, you can find the code <a href=\"Gauss.py\">here</a>\n"
   ]
  },
  {
   "cell_type": "code",
   "execution_count": null,
   "metadata": {},
   "outputs": [],
   "source": [
    "#>>>RUN: CTA2.0-runcell01\n",
    "\n",
    "# If you get an error when running this cell, check the kernel on the top right:\n",
    "# it has to be 802cvmfs or 802.\n",
    "\n",
    "from vpython import *  #Here we're importing all the vpython package\n",
    "from Gauss import *"
   ]
  },
  {
   "cell_type": "markdown",
   "metadata": {},
   "source": [
    "<a name='section_2_1'></a>\n",
    "\n",
    "<h2 style=\"border:1px; border-style:solid; padding: 0.25em; color: #FFFFFF; background-color: #90409C\">CTA2.1 Overview</h2>  \n",
    "\n",
    "| [2.0 Libraries and Settings](#section_2_0) | [2.1 Overview](#section_2_1) | [2.2 Gauss's Law or Not?](#section_2_2) | [2.3 Other Symmetries](#section_2_3) | [2.4 Additional Explorations](#section_2_4) "
   ]
  },
  {
   "cell_type": "markdown",
   "metadata": {},
   "source": [
    "<h3>Background</h3>\n",
    "\n",
    "<b>Gauss's law</b> states that the <b>flux</b> of the electric field $\\vec{E}$ through any <b>closed</b> surface, also called a <b>Gaussian surface</b>, is equal to the net charge enclosed  ($Q_{enc}$)\n",
    "  divided by the vacuum permittivity ($\\epsilon_0$)\n",
    "\n",
    "$$\\Phi = \\oint \\vec{E}.\\vec{dA} = \\frac{Q_{enc}}{\\epsilon_0}$$"
   ]
  },
  {
   "cell_type": "markdown",
   "metadata": {},
   "source": [
    "<a name='section_2_2'></a>\n",
    "\n",
    "<h2 style=\"border:1px; border-style:solid; padding: 0.25em; color: #FFFFFF; background-color: #90409C\">CTA2.2 Gauss's law or not?</h2>  \n",
    "\n",
    "| [2.0 Libraries and Settings](#section_2_0) | [2.1 Overview](#section_2_1) | [2.2 Gauss's Law or Not?](#section_2_2) | [2.3 Other Symmetries](#section_2_3) | [2.4 Additional Explorations](#section_2_4) "
   ]
  },
  {
   "cell_type": "markdown",
   "metadata": {},
   "source": [
    "<h3>Electric Field of a Uniformly-Charged Ring</h3>\n",
    "\n",
    "Assume you want to calculate the electric field produced by a charged ring. \n",
    "\n",
    "The code below:\n",
    "<ul>\n",
    "<li>Draws  a charged ring composed by point charges equally spaced in the yz plane (side view) and the electric field lines in the xy plane.</li>\n",
    "</ul>\n",
    "\n",
    "\n",
    "<b><font color=\"red\">QUESTION 1 (helpful to solve e.g. Pset 2 problem 4) </font>: would a Gaussian surface be helpful? If so, which one? Justify your answer. </b>"
   ]
  },
  {
   "cell_type": "code",
   "execution_count": null,
   "metadata": {},
   "outputs": [],
   "source": [
    "#>>>RUN: CTA2.2-runcell01\n",
    "\n",
    "## YOUR TURN: Run this cell. The code is in a separate notebook in your folder; you are\n",
    "## welcome to read it, but you do not have to\n",
    "%run ./E_ring.ipynb"
   ]
  },
  {
   "cell_type": "markdown",
   "metadata": {},
   "source": [
    "<h3>Electric Field of a Uniformly-Charged Sphere </h3>\n",
    "\n",
    "Assume you want to calculate the electric field produced by a charged sphere. \n",
    "Let's explore to decide which Gaussian surfaces would be helpful!\n",
    "\n",
    "The code below:\n",
    "<ul>\n",
    "<li>Draws the charged sphere and the electric field lines in some locations.</li>\n",
    "<li>Draws different gaussian surfaces (spheres, cylinders with different orientations), using the function <b>draw_Gaussian_surface( )</b> </li> \n",
    "</ul>\n",
    "\n",
    "You can uncomment different choices in the cell below by removing the \"#' symbol. \n",
    "\n",
    "<b><font color=\"red\">QUESTION 2 </font>: would a Gaussian surface be helpful? If so, which one (answer A,B,C)? Justify your answer. </b>\n"
   ]
  },
  {
   "cell_type": "code",
   "execution_count": null,
   "metadata": {},
   "outputs": [],
   "source": [
    "#>>>RUN: CTA2.2-runcell02\n",
    "# You may have to run this cell twice to see the visualization\n",
    "\n",
    "# Draw the field produced by a charged sphere. \n",
    "\n",
    "source_radius = 2 #m\n",
    "charge = 1e-9 # C\n",
    "distance_E = 3  #m where the field is calculated and shown\n",
    "draw_charged_sphere(charge=charge,radius=source_radius,distance=distance_E)\n",
    "\n",
    "#   Possible gaussian surfaces:\n",
    "\n",
    "#A = draw_Gaussian_surface(\"cylinder\",radius = distance_E,base_centers=[[-distance_E/2,0,0],[distance_E/2,0,0]])\n",
    "B = draw_Gaussian_surface(\"sphere\",radius = distance_E)\n",
    "#C = draw_Gaussian_surface(\"cylinder\",radius = distance_E,base_centers=[[0,-distance_E/2,0],[0,distance_E/2,0]])"
   ]
  },
  {
   "cell_type": "markdown",
   "metadata": {},
   "source": [
    "<a name='section_2_3'></a>\n",
    "\n",
    "<h2 style=\"border:1px; border-style:solid; padding: 0.25em; color: #FFFFFF; background-color: #90409C\">CTA2.3 Other Symmetries </h2>  \n",
    "\n",
    "| [2.0 Libraries and Settings](#section_2_0) | [2.1 Overview](#section_2_1) | [2.2 Gauss's Law or Not?](#section_2_2) | [2.3 Other Symmetries](#section_2_3) | [2.4 Additional Explorations](#section_2_4) "
   ]
  },
  {
   "cell_type": "markdown",
   "metadata": {},
   "source": [
    "<h3>Electric Field of a Uniformly-Charged Insulating Cylinder</h3>\n",
    "\n",
    "Assume you want to calculate the electric field produced by a uniformly charged cylinder. \n",
    "Let's explore to decide which Gaussian surfaces would be helpful!\n",
    "\n",
    "The code below:\n",
    "<ul>\n",
    "<li>Draws the charged cylinder and the electric field lines in some locations.</li>\n",
    "<li>Draws different gaussian surfaces (spheres, cylinders with different orientations), using the function <b>draw_Gaussian_surface( )</b> </li> \n",
    "</ul>\n",
    "\n",
    "You can uncomment different choices in the cell below by removing the \"#' symbol. \n",
    "\n",
    "<b><font color=\"red\">QUESTION 3 </font>:\n",
    "<ul>\n",
    "    <li> would a Gaussian surface be helpful? If so, which one (Answer A,B,C,D)? </li>\n",
    "    <li> have you made any approximations? </li>\n",
    "    <li> what is the mathematical condition to express that this cylinder is \"infinite\"? Express your answer in terms of the length l, the radius r and the charge density $\\rho$ as needed. </li>\n",
    "</b>"
   ]
  },
  {
   "cell_type": "code",
   "execution_count": null,
   "metadata": {},
   "outputs": [],
   "source": [
    "#>>>RUN: CTA2.2-runcell03\n",
    "# You may have to run this cell twice to see the visualization\n",
    "\n",
    "# Draw a charged cylinder and the the field produced by it. \n",
    "\n",
    "length = 6  # m\n",
    "radius = 1 # m\n",
    "density = 1e-9 # C/m^3\n",
    "\n",
    "distance_E = 1.5 # m\n",
    "\n",
    "draw_charged_cylinder(lambda0=density,radius=radius,length=length,distance = distance_E)\n",
    "\n",
    "#   Possible gaussian surfaces:\n",
    "\n",
    "#A = draw_Gaussian_surface(\"cylinder\",radius = distance_E,base_centers=[[-length/2,0,0],[length/2,0,0]])\n",
    "#B = draw_Gaussian_surface(\"sphere\",radius = distance_E)\n",
    "#C = draw_Gaussian_surface(\"cylinder\",radius = distance_E,base_centers=[[0,-distance_E/2,0],[0,distance_E/2,0]])\n",
    "D = draw_Gaussian_surface(\"cylinder\",radius = distance_E,base_centers=[[-length/8,0,0],[length/8,0,0]])"
   ]
  },
  {
   "cell_type": "markdown",
   "metadata": {},
   "source": [
    "<h3>Electric Field of a Uniformly-Charged Insulating Slab</h3>\n",
    "\n",
    "Assume you want to calculate the electric field produced by a uniformly charged slab. \n",
    "Let's explore to decide which Gaussian surfaces would be helpful!\n",
    "\n",
    "The code below:\n",
    "<ul>\n",
    "<li>Draws the charged slab and the electric field lines in some locations.</li>\n",
    "<li>Draws different gaussian surfaces (spheres, cylinders with different orientations), using the function <b>draw_Gaussian_surface( )</b> </li> \n",
    "</ul>\n",
    "\n",
    "You can uncomment different choices in the cell below by removing the \"#' symbol. \n",
    "\n",
    "<b><font color=\"red\">QUESTION 4 (helpful to solve e.g. Pset 2 problem 3) </font>:</b>\n",
    "<ul>\n",
    "    <li> <b> would a Gaussian surface be helpful? If so, which one (answer A,B,C,D)? </b> </li>\n",
    "    <li> <b> have you made any approximations? </b> </li>\n",
    "    <li> <b> what is the mathematical condition to express that this slab is \"infinite\"? Express your answer in terms of the length l, width w, the height h and the charge density $\\rho$ as needed.</b> </li>\n",
    "    \n",
    "<b> Hint: rotate the camera to see the slab sideways! </b>\n",
    "    "
   ]
  },
  {
   "cell_type": "code",
   "execution_count": null,
   "metadata": {},
   "outputs": [],
   "source": [
    "#>>>RUN: CTA2.2-runcell04\n",
    "# You may have to run this cell twice to see the visualization\n",
    "\n",
    "# Draw a  charged slab the field produced by it.\n",
    "\n",
    "length = 10 #x in m\n",
    "height = 10 #y in m\n",
    "width = 1 #full width/thickness in m\n",
    "density = 1e-9 # in C/m^3\n",
    "distance_E = 1 #above/below the center of the slab in m\n",
    "\n",
    "draw_charged_slab(rho=density,length=length,height=height,width=width,distance=distance_E)\n",
    "\n",
    "#   Possible gaussian surfaces:\n",
    "\n",
    "#A = draw_Gaussian_surface(\"sphere\",radius = distance_E)\n",
    "B = draw_Gaussian_surface(\"cylinder\",radius = 1,base_centers=[[0,0,distance_E],[0,0, - distance_E]])\n",
    "#C = draw_Gaussian_surface(\"cylinder\",radius = length/2,base_centers=[[0,0,distance_E],[0,0, - distance_E]])\n",
    "#D = draw_Gaussian_surface(\"cylinder\",radius = distance_E,base_centers=[[0,-distance_E/2,0],[0,distance_E/2,0]])"
   ]
  },
  {
   "cell_type": "markdown",
   "metadata": {},
   "source": [
    "<a name='section_2_4'></a>\n",
    "\n",
    "<h2 style=\"border:1px; border-style:solid; padding: 0.25em; color: #FFFFFF; background-color: #90409C\">CTA2.4 Additional Explorations </h2>  \n",
    "\n",
    "| [2.0 Libraries and Settings](#section_2_0) | [2.1 Overview](#section_2_1) | [2.2 Gauss's Law or Not?](#section_2_2) | [2.3 Other Symmetries](#section_2_3) | [2.4 Additional Explorations](#section_2_4) "
   ]
  },
  {
   "cell_type": "markdown",
   "metadata": {},
   "source": [
    "This part is <b>OPTIONAL </b> . You can charge the arguments in the function <b>draw_Gaussian_surface( )</b> to explore other Gaussian surfaces. This function adds a Gaussian surface to a scene, it can be either a sphere or a cylinder. The function takes the following information:\n",
    "<ol>\n",
    "    <li>The shape of the Gaussian surface: \"sphere\" or \"cylinder\". </li>\n",
    "    <li>The dimensions of the Gaussian surface: \n",
    "    <ul>\n",
    "    <li>For a sphere: radius = radius of the sphere (centered at the origin for simplicity).</li>\n",
    "    <li>For a cylinder: radius = radius of the two circular bases of the cylinder and base_centers = [[$x_1, y_1, z_1$],[$x_2, y_2, z_2$]] is a list of the coordinates of the centers of the two circular bases. </li>\n",
    "    </ul>\n",
    "    </li>\n",
    "</ol>\n",
    "\n",
    "The resulting Gaussian surface has its center at the origin of the coordinates system.\n",
    "\n",
    "\n",
    "You can also change the dimensions of the sources above, their charge or charge density, and the location where the field lines are shown."
   ]
  }
 ],
 "metadata": {
  "kernelspec": {
   "display_name": "802cvmfs",
   "language": "python",
   "name": "802cvmfs"
  },
  "language_info": {
   "codemirror_mode": {
    "name": "ipython",
    "version": 3
   },
   "file_extension": ".py",
   "mimetype": "text/x-python",
   "name": "python",
   "nbconvert_exporter": "python",
   "pygments_lexer": "ipython3",
   "version": "3.9.16"
  },
  "vscode": {
   "interpreter": {
    "hash": "aee8b7b246df8f9039afb4144a1f6fd8d2ca17a180786b69acc140d282b71a49"
   }
  }
 },
 "nbformat": 4,
 "nbformat_minor": 4
}
