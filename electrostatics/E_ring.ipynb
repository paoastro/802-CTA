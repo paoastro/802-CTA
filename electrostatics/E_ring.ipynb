{
 "cells": [
  {
   "cell_type": "code",
   "execution_count": null,
   "id": "678ff075",
   "metadata": {},
   "outputs": [],
   "source": [
    "# adapted from source: https://scipython.com/blog/visualizing-a-vector-field-with-matplotlib/\n",
    "\n",
    "import sys\n",
    "import numpy as np\n",
    "import matplotlib.pyplot as plt\n",
    "from matplotlib.patches import Circle\n",
    "\n",
    "def E(q, r0, x, y):\n",
    "    \"\"\"Return the electric field vector E=(Ex,Ey) due to charge q located at r0.\"\"\"\n",
    "    den = np.sqrt((x-r0[0])**2 + (y-r0[1])**2 + (0-r0[2])**2)**3\n",
    "    return q * (x - r0[0]) / den, q * (y - r0[1]) / den\n",
    "\n",
    "# Grid of x, y points\n",
    "nx, ny = 64, 64\n",
    "x = np.linspace(-2, 2, nx)\n",
    "y = np.linspace(-2, 2, ny)\n",
    "X, Y = np.meshgrid(x, y)\n",
    "\n",
    "# Creates nq charges of same sign and charge, equally spaced\n",
    "# on the unit circle in the yz plane.\n",
    "nq = 50\n",
    "charges = []\n",
    "for i in range(nq):\n",
    "    q = 1e-9\n",
    "    charges.append((q, (0, np.cos(2*np.pi*i/nq), np.sin(2*np.pi*i/nq))))\n",
    "\n",
    "# Electric field vector, E=(Ex, Ey), as separate components\n",
    "Ex, Ey = np.zeros((ny, nx)), np.zeros((ny, nx))\n",
    "for charge in charges:\n",
    "    ex, ey = E(*charge, x=X, y=Y)\n",
    "    Ex += ex\n",
    "    Ey += ey\n",
    "\n",
    "fig = plt.figure()\n",
    "ax = fig.add_subplot(111)\n",
    "\n",
    "# Plot the streamlines with an appropriate colormap and arrow style\n",
    "color = 2 * np.log(np.hypot(Ex, Ey))\n",
    "ax.streamplot(x, y, Ex, Ey, color=color, linewidth=1, cmap=plt.cm.inferno,\n",
    "              density=2, arrowstyle='->', arrowsize=1.5)\n",
    "\n",
    "# Add filled circles for the charges themselves\n",
    "charge_colors = {True: '#aa0000', False: '#0000aa'}\n",
    "for q, pos in charges:\n",
    "    ax.add_artist(Circle(pos, 0.05, color=charge_colors[q>0]))\n",
    "\n",
    "ax.set_xlabel('$x (m)$')\n",
    "ax.set_ylabel('$y (m)$')\n",
    "ax.set_xlim(-2,2)\n",
    "ax.set_ylim(-2,2)\n",
    "ax.set_aspect('equal')\n",
    "plt.show()"
   ]
  }
 ],
 "metadata": {
  "kernelspec": {
   "display_name": "Python 3 (ipykernel)",
   "language": "python",
   "name": "python3"
  },
  "language_info": {
   "codemirror_mode": {
    "name": "ipython",
    "version": 3
   },
   "file_extension": ".py",
   "mimetype": "text/x-python",
   "name": "python",
   "nbconvert_exporter": "python",
   "pygments_lexer": "ipython3",
   "version": "3.9.13"
  }
 },
 "nbformat": 4,
 "nbformat_minor": 5
}
