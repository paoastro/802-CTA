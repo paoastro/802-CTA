{
 "cells": [
  {
   "cell_type": "markdown",
   "metadata": {},
   "source": [
    "<h1 style=\"color: #90409C\"><ins>COMPUTATIONAL THINKING ACTIVITY 0:</ins>\n",
    "    \n",
    "Introduction to Jupyter Notebooks and Python</h1>"
   ]
  },
  {
   "cell_type": "markdown",
   "metadata": {},
   "source": [
    "<h4 style=\"color: #90409C\"><i>This notebook was authored by the ES.802 + 8.02 Course Team, Copyright 2023 MIT All Rights Reserved.</i></h4>\n",
    "\n",
    "<a name='section_0_0'></a>\n",
    "\n",
    "<h2 style=\"border:1px; border-style:solid; padding: 0.25em; color: #FFFFFF; background-color: #90409C\">CTA0.0 Using an Online Notebook</h2>\n",
    "\n",
    "| [0.0 Using an Online Notebook](#section_0_0) | [0.1 Libraries and Settings](#section_0_1) | [0.2 Introduction to Python Syntax](#section_0_2) |"
   ]
  },
  {
   "cell_type": "markdown",
   "metadata": {},
   "source": [
    "In this activity you will learn how to edit and run an Online Notebook. You will also be exposed to some basic syntax in Python, the programming language used in the 8.02 simulations. Don't worry about having to learn it: we will remind you the syntax when needed, and it will be only for very small parts of codes. You might find this notebook helpful also for troubleshooting in the future, after you will have gained some experience.  <font color=\"red\"><b> Please come to office hours  to ask questions or just to say hello, we are looking forward to meeting you!</font></b>    "
   ]
  },
  {
   "cell_type": "markdown",
   "metadata": {},
   "source": [
    "<a name='section_0_1'></a>\n",
    "\n",
    "<h2 style=\"border:1px; border-style:solid; padding: 0.25em; color: #FFFFFF; background-color: #90409C\">CTA0.1 Libraries and Settings</h2>\n",
    "\n",
    "| [0.0 Using an Online Notebook](#section_0_0) | [0.1 Libraries and Settings](#section_0_1) | [0.2 Introduction to Python Syntax](#section_0_2) |"
   ]
  },
  {
   "cell_type": "markdown",
   "metadata": {},
   "source": [
    "<font color=\"red\"><b>REMINDER: Save your work often  by clicking on the icon above!</font></b>\n",
    "Start by clicking on the code cell below (the contour will change color) and then on <font color=\"light blue\"><b> Run </b></font> in the top menu to execute it. Do this for each \"RUN\" cell in order to first import the relevant libraries."
   ]
  },
  {
   "cell_type": "markdown",
   "metadata": {},
   "source": [
    "**Importing Libraries:** Before beginning, run the cell below to import the relevant libraries for this notebook.\n"
   ]
  },
  {
   "cell_type": "code",
   "execution_count": null,
   "metadata": {},
   "outputs": [],
   "source": [
    "#>>>RUN: CTA1.0-runcell01\n",
    "\n",
    "# If you get an error when running this cell, check the kernel on the top right:\n",
    "# it has to be 802cvmfs or 802.\n",
    "\n",
    "from vpython import *  #Here we're importing all the vpython package\n",
    "import matplotlib as plt\n",
    "import numpy as np"
   ]
  },
  {
   "cell_type": "markdown",
   "metadata": {},
   "source": [
    "**Setting Default Figure Parameters:** The following code cell sets default values for figure parameters."
   ]
  },
  {
   "cell_type": "code",
   "execution_count": null,
   "metadata": {},
   "outputs": [],
   "source": [
    "#>>>RUN: CTA1.0-runcell02\n",
    "\n",
    "#set plot resolution\n",
    "%config InlineBackend.figure_format = 'retina'\n",
    "\n",
    "#set default figure parameters\n",
    "plt.rcParams['figure.figsize'] = (9,6)\n",
    "\n",
    "medium_size = 12\n",
    "large_size = 15\n",
    "\n",
    "plt.rc('font', size=medium_size)          # default text sizes\n",
    "plt.rc('xtick', labelsize=medium_size)    # xtick labels\n",
    "plt.rc('ytick', labelsize=medium_size)    # ytick labels\n",
    "plt.rc('legend', fontsize=medium_size)    # legend\n",
    "plt.rc('axes', titlesize=large_size)      # axes title\n",
    "plt.rc('axes', labelsize=large_size)      # x and y labels\n",
    "plt.rc('figure', titlesize=large_size)    # figure title"
   ]
  },
  {
   "cell_type": "markdown",
   "metadata": {},
   "source": [
    "<a name='section_0_2'></a>\n",
    "\n",
    "<h2 style=\"border:1px; border-style:solid; padding: 0.25em; color: #FFFFFF; background-color: #90409C\">CTA0.2 Introduction to Python Syntax</h2>  \n",
    "\n",
    "| [0.0 Using an Online Notebook](#section_0_0) | [0.1 Libraries and Settings](#section_0_1) | [0.2 Introduction to Python Syntax](#section_0_2) |"
   ]
  },
  {
   "cell_type": "markdown",
   "metadata": {},
   "source": [
    "<hr style=\"height: 1px;\">\n",
    "\n",
    "<h3>1.  Indentation</h3>\n",
    "\n",
    "Indentation is mandatory in Python to define the blocks of statements. The number of spaces must be uniform in a block of code. </font><b> When you uncomment a line (as we will ask below and in the problems), be sure the indentation (= the number of spaces) is consistent with the rest of the block</b></font> ."
   ]
  },
  {
   "cell_type": "markdown",
   "metadata": {},
   "source": [
    "<hr style=\"height: 1px;\">\n",
    "\n",
    "<h3> 2.  Basic operations</h3>\n",
    "\n",
    "<h4> a) Addition, subtraction, multiplication and division</h4>  \n",
    "\n",
    "You can type simple operations in the cells.  The example below shows: 2+3.Click on the code cell, and then \n",
    "\n",
    " click <font color=\"blue\"><b>Run</b></font> in the top menu: the output will appear in a new cell  below, identified by <b><font color=\"red\">Out[ ] = </font></b>.\n"
   ]
  },
  {
   "cell_type": "code",
   "execution_count": null,
   "metadata": {},
   "outputs": [],
   "source": [
    "#>>>RUN: CTA1.1-runcell01\n",
    "\n",
    "#You can delete 2+3 and enter other statements.\n",
    "#Try for example:  5-7, 6/2, 3*4, 6%2, 6/5. \n",
    "#Always click Run to see the output and make sense of it.\n",
    "\n",
    "2+3"
   ]
  },
  {
   "cell_type": "markdown",
   "metadata": {},
   "source": [
    "<h4>b) Exponentiation:</h4>\n",
    "\n",
    "This one is tricky!!  For $2^3$ type 2**3 and run it!\n"
   ]
  },
  {
   "cell_type": "code",
   "execution_count": null,
   "metadata": {},
   "outputs": [],
   "source": [
    "#>>>RUN: CTA1.1-runcell02\n",
    "\n"
   ]
  },
  {
   "cell_type": "markdown",
   "metadata": {},
   "source": [
    "<hr style=\"height: 1px;\">\n",
    "\n",
    "<h3> 3. Storing information in variables</h3>\n",
    "\n",
    "Variables provide a way to associate names with objects.\n",
    "<ul>\n",
    "\n",
    "<li>Example 1: The statement <b>a = 5.2</b>  binds the float (the data type used to represent real numbers) <b>5.2</b> to the variable <b>a</b>.</li>\n",
    "\n",
    "<li>Example 2: The statement <b>b = \"Hello MIT\"</b> binds the string <b>Hello MIT</b> to the variable <b>b</b>. </li>\n",
    "</ul>\n",
    "\n",
    "<b>Note 1:</b> the quotation marks are used to identify the object as a string, an object used to represent characters.\n",
    "\n",
    "<b>Note 2:</b> upper and lowercase letters are different in Python! If you define <b>a = 5.2</b>, you are not binding A to the same value."
   ]
  },
  {
   "cell_type": "markdown",
   "metadata": {},
   "source": [
    "<hr style=\"height: 1px;\">\n",
    "\n",
    "<h3> 4. Print statement </h3>\n",
    "\n",
    "The <b>print( ) function </b> shows as output anything you put in between the parenthesis. Let's try this function. Type in the cell below:\n",
    "\n",
    "<ul>   \n",
    "    <li><b>a = 5.2</b></li>\n",
    "    <li><b>b = \"Hello MIT\"</b></li>    \n",
    "</ul>\n",
    "\n",
    "Click <b>Run</b>: nothing happens! \n"
   ]
  },
  {
   "cell_type": "code",
   "execution_count": null,
   "metadata": {},
   "outputs": [],
   "source": [
    "#>>>RUN: CTA1.1-runcell03\n",
    "\n"
   ]
  },
  {
   "cell_type": "markdown",
   "metadata": {},
   "source": [
    "If you want to know what is stored in the variables <b>a</b> and <b>b</b> just use the print( ) function typing in the cell the following statements:\n",
    "\n",
    "<ul> \n",
    "    <li><b>print(a)</b></li>\n",
    "    <li><b>print(b)</b></li>\n",
    "</ul>\n",
    "    \n",
    "and run it again."
   ]
  },
  {
   "cell_type": "code",
   "execution_count": null,
   "metadata": {},
   "outputs": [],
   "source": [
    "#>>>RUN: CTA1.1-runcell04\n",
    "\n"
   ]
  },
  {
   "cell_type": "markdown",
   "metadata": {},
   "source": [
    "You can also be more explicit by adding some text to describe what you are printing. <b> Note:</b> you must put the text between quotation marks as follows:\n",
    "\n",
    "<ul> \n",
    "    <li><b>print( \"This is what I stored in a:\", a )</b></li>\n",
    "</ul>\n",
    "\n",
    "Also, note that we separate the two arguments inside the parenthesis by a comma."
   ]
  },
  {
   "cell_type": "code",
   "execution_count": null,
   "metadata": {},
   "outputs": [],
   "source": [
    "#>>>RUN: CTA1.1-runcell05\n",
    "\n"
   ]
  },
  {
   "cell_type": "markdown",
   "metadata": {},
   "source": [
    "<hr style=\"height: 1px;\">\n",
    "\n",
    "<h3>5. Storing information in a list.</h3>\n",
    "\n",
    "A list is an ordered sequence of values, where each value is identified by an index.\n",
    "Lists are written by enclosing a comma-separated list of elements within square parentheses.  We will not ask you to design and write a list on your own, just to extract specific elements.\n",
    "\n",
    "Example: MyList is a list that stores the integer numbers 2, -3, and 8. Copy and paste it in the cell below  \n",
    " \n",
    "<ul>\n",
    "    <li><b>MyList = [ 2, -3, 8]</b></li>\n",
    "</ul>\n",
    "\n",
    "You can print to the screen all the list by typing:\n",
    "<ul>\n",
    "    <li><b>print( MyList )</b></li>\n",
    "</ul>\n",
    "\n",
    "You can also print the elements of the list. In Python, the index of a list starts at 0. In this example, MyList has a length of 3 so the index starts at 0 and ends at 2. Check it by typing:\n",
    "\n",
    "<ul>\n",
    "    <li>print(\"The first element of MyList is:\" , MyList[ 0 ] )</li>\n",
    "    <li>print(\"The second element of MyList is:\" , MyList[ 1 ] )</li>\n",
    "    <li>print(\"The third element of MyList is:\" , MyList[ 2 ] )</li>\n",
    "</ul>\n",
    "\n",
    "Click <b>Run</b>.\n"
   ]
  },
  {
   "cell_type": "code",
   "execution_count": null,
   "metadata": {},
   "outputs": [],
   "source": [
    "#>>>RUN: CTA1.1-runcell06\n"
   ]
  },
  {
   "cell_type": "markdown",
   "metadata": {},
   "source": [
    "<hr style=\"height: 1px;\">\n",
    "\n",
    "<h3> 6. Adding explanatory text to your code </h3>\n",
    "\n",
    "Anything preceeded by the hash symbol # is a \"comment\", meaning that it is not interpreted by Python. See an example below:\n"
   ]
  },
  {
   "cell_type": "code",
   "execution_count": null,
   "metadata": {},
   "outputs": [],
   "source": [
    "#>>>RUN: CTA1.1-runcell07\n",
    "\n",
    "NewList = [1,2,3,4]  # Here is my new list\n",
    "\n",
    "#I will print the 3rd element of the list and I will NOT print the 1st element\n",
    "\n",
    "print(\"The 3rd element\", NewList[2])\n",
    "#print(\"The 1st element\", NewList[0]))\n",
    "print(\"Note that nothing behind the # is executed\")\n",
    "\n",
    "# Do not forget to Click Run"
   ]
  },
  {
   "cell_type": "markdown",
   "metadata": {},
   "source": [
    "<hr style=\"height: 1px;\">\n",
    "\n",
    "<h3>7. Functions in Python  </h3>\n",
    "\n",
    "Python comes with a large library of functions, print( ) is one of them. You can also write your own function!</font><b> We will not ask you to write a function, just to modify what is in the body: be careful with indentation when you do so!</b></font>\n",
    "\n",
    "A function is a generic piece of code that can be used repeatedly. It takes a number of parameters, then it executes the code in the body of the function  until either a return statement is encountered, in which case the value of the expression following the return becomes the value of the function invocation, or there are no more statements to execute, in which case the function returns the value None. \n",
    "\n",
    "We now write as an example a function that has a number as input parameter and that returns a value equal to the square of the number. We will call this function square( ). The syntax is explained in the cell below. To use the function you need to call it with actual parameter/s, as show in the example. \n",
    "    \n",
    "</font><b>Notice the indentation. We do not define x inside the function: x is passed to it when we call it.\n",
    "The body assumes that x is known. </b></font>"
   ]
  },
  {
   "cell_type": "code",
   "execution_count": null,
   "metadata": {},
   "outputs": [],
   "source": [
    "#>>>RUN: CTA1.1-runcell08\n",
    "\n",
    "def square(x): # name of function (list of formal parameters)\n",
    "    \"\"\"This function returns the square of a float or integer x\"\"\" # This is a docstring, it provides\n",
    "    # documentation about the function\n",
    "    return x**2  # body of the function\n",
    "\n",
    "z = square(6) # call the function binding the actual parameter 6 to the formal parameter x\n",
    "print(z)"
   ]
  },
  {
   "cell_type": "markdown",
   "metadata": {},
   "source": [
    "Self-check.</font><b> Now try to run the cell below: what happens? How would you fix it? </b></font>"
   ]
  },
  {
   "cell_type": "code",
   "execution_count": null,
   "metadata": {},
   "outputs": [],
   "source": [
    "#>>>RUN: CTA1.1-runcell09\n",
    "\n",
    "def square(x): # name of function (list of formal parameters)\n",
    "    \"\"\"This function returns the square of a float or integer x\"\"\" # This is a docstring, it provides\n",
    "    # documentation about the function\n",
    "return x**2  # body of the function\n",
    "\n",
    "z = square(6) # call the function binding the actual parameter 6 to the formal parameter x\n",
    "print(z)"
   ]
  },
  {
   "cell_type": "markdown",
   "metadata": {},
   "source": [
    "<hr style=\"height: 1px;\">\n",
    "\n",
    "<h3>8. What next? </h3>\n",
    "\n",
    "The code below simulates a ball that falls under the effect of gravity and bounces on the ground.  \n",
    "\n",
    "You can run the cell below to have an idea of what sort of simulations we will be working on. Scroll down to see the output!   You can also change parameters such as gravity and the restitution coefficient e(controlling how elastic the collision with the ground is).\n",
    "\n",
    "In the future you will be asked to complete small (at most a few lines) parts of a code with the simple syntax that you learned above. For the cell below if you are interested you can read the code and ask questions, but you are not expected to. \n",
    "\n",
    "<font color=\"red\"><b>If the cell below gets stuck, save it, then go to File -> Close and Shutdown Notebook. </font></b>"
   ]
  },
  {
   "cell_type": "code",
   "execution_count": null,
   "metadata": {
    "scrolled": true
   },
   "outputs": [],
   "source": [
    "#>>>RUN: CTA1.1-runcell10\n",
    "\n",
    "# STEP 0: PARAMETERS TO PLAY WITH\n",
    "\n",
    "# Gravitational acceleration\n",
    "g = 9.8  # m/s^2   \n",
    "# coefficient of restitution\n",
    "e = 0.99\n",
    "# initial component of the velocity in the vertical direction\n",
    "vy = 1\n",
    "\n",
    "# STEP 1: Draw a sphere\n",
    "\n",
    "# Define sphere dimensions and initial conditions\n",
    "R = 1                    # m\n",
    "m = 0.1                  # kg\n",
    "r0 = vector(0,7.0,0)  # m    Notice this is a vector, not a number!!!!!\n",
    "v0 = vector(0,vy,0)    # m/s\n",
    "\n",
    "# Draw the sphere itself, specify attributes, and name it ball\n",
    "\n",
    "scene = canvas() \n",
    "s = \"Rotate the camera by dragging with the right mouse button,\\n\"\n",
    "s += \"To zoom, drag with the left+right mouse buttons or use the mouse pad.\\n\"\n",
    "s += \"Touch screen: pinch/extend to zoom, swipe or two-finger rotate.\"\n",
    "scene.caption = s\n",
    "\n",
    "ball = sphere (pos = r0, radius = R, color=color.red)  # r0  is already a vector\n",
    "\n",
    "# Add an extra attribute to the sphere that we'll use to make it move.\n",
    "# We initially set it equal to v0\n",
    "\n",
    "ball.velocity  = v0\n",
    "\n",
    "# STEP 2: Draw a box in which to put the sphere called \"ball\"\n",
    "\n",
    "# Draw a box\n",
    "floor   = box (pos = vector( 0,-8, 0), length =  20, height =  0.5, width = 4, color=color.blue)\n",
    "#ceiling = box (pos = vector( 0, 8, 0), length =  20, height =  0.5, width = 4, color=color.blue)\n",
    "#left    = box (pos = vector(-10, 0, 0), length = 0.5, height = 16.5, width = 4, color=color.blue)\n",
    "#right   = box (pos = vector(10, 0, 0), length = 0.5, height = 16.5, width = 4, color=color.blue)\n",
    "\n",
    "# STEP 3: Add and/or calculate physical parameters\n",
    "\n",
    "# Gravitational force\n",
    "Fg = m*vector(0.0, -g, 0.0)   # N    This is a scalar times a vector, so Fg is a vector\n",
    "\n",
    "# Time\n",
    "\n",
    "time = 0    # s    Set the initial time to zero\n",
    "dt = 0.01   # s    We'll only step forward 10ms each iteration through while loop\n",
    "t_f = 10    # s    How long  the simulation lasts \n",
    "\n",
    "# STEP 4: Define constants to improve simulation display\n",
    "# Slow frame update rate so human eye can track objects\n",
    "\n",
    "frequency = 100\n",
    "\n",
    "# STEP 5: Execute simulation by repeatedly updating \"ball\" position\n",
    "\n",
    "# Define algorithm to move simulation forward in time by one unit \"dt\"\n",
    "\n",
    "while time < t_f: # Update for a fixed number of time steps\n",
    "\n",
    "    # Calculate acceleration of \"ball\" at current position. NOT AN UPDATE!\n",
    "    ball.accel = Fg / m # This is constant because gravity is constant. Could also use g.\n",
    "\n",
    "    # Length over which ball and floor overlap - this is one way of modeling\n",
    "    # the bouncing.\n",
    "    overlap = ball.pos.y - R - floor.pos.y  - floor.height\n",
    "\n",
    "    \n",
    "    # Update velocity of \"ball\"\n",
    "    \n",
    "    if overlap > 0: #  the ball is not in contact with the floor\n",
    "         ball.velocity = ball.velocity + ball.accel * dt \n",
    "    else:\n",
    "         ball.velocity = - e*ball.velocity\n",
    "    \n",
    "    ball.velocity = ball.velocity + ball.accel * dt \n",
    "\n",
    "    # Continue running simulation at human-manageable speed\n",
    "    rate (frequency) # Simulate slow enough for human eye\n",
    "\n",
    "    # Update position of \"ball\"\n",
    "    ball.pos = ball.pos + ball.velocity * dt \n",
    "\n",
    "    # Keep time variable up to date\n",
    "    time = time + dt # update the time\n"
   ]
  },
  {
   "cell_type": "code",
   "execution_count": null,
   "metadata": {},
   "outputs": [],
   "source": []
  },
  {
   "cell_type": "code",
   "execution_count": null,
   "metadata": {},
   "outputs": [],
   "source": []
  }
 ],
 "metadata": {
  "kernelspec": {
   "display_name": "Python 3 (ipykernel)",
   "language": "python",
   "name": "python3"
  },
  "language_info": {
   "codemirror_mode": {
    "name": "ipython",
    "version": 3
   },
   "file_extension": ".py",
   "mimetype": "text/x-python",
   "name": "python",
   "nbconvert_exporter": "python",
   "pygments_lexer": "ipython3",
   "version": "3.9.13"
  },
  "vscode": {
   "interpreter": {
    "hash": "aee8b7b246df8f9039afb4144a1f6fd8d2ca17a180786b69acc140d282b71a49"
   }
  }
 },
 "nbformat": 4,
 "nbformat_minor": 4
}
