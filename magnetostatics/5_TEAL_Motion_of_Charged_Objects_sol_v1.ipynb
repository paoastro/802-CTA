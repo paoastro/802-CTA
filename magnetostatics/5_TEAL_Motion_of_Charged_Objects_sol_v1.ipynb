{
 "cells": [
  {
   "cell_type": "markdown",
   "id": "fa12ea89",
   "metadata": {},
   "source": [
    "<h1 style=\"color: #90409C\"><ins>COMPUTATIONAL THINKING ACTIVITY 5:</ins>\n",
    "\n",
    "Motion of Charged Objects in Electric and Magnetic Fields</h1>"
   ]
  },
  {
   "cell_type": "markdown",
   "id": "a7ad9e18",
   "metadata": {},
   "source": [
    "<h4 style=\"color: #90409C\"><i>This notebook was authored by the ES.802 + 8.02 Course Team, Copyright 2023 MIT All Rights Reserved.</i></h4>\n",
    "\n",
    "<a name='section_1_1'></a>\n",
    "\n",
    "<h2 style=\"border:1px; border-style:solid; padding: 0.25em; color: #FFFFFF; background-color: #90409C\">CTA5.1 Completing the Code</h2>  \n",
    "\n",
    "| [5.1 Completing the Code](#section_5_1) | [5.2 Visualizations](#section_5_2) |  [5.3 Background](#section_5_3) | [5.4 Additional Tasks](#section_5_4) |"
   ]
  },
  {
   "cell_type": "code",
   "execution_count": null,
   "id": "24b40b90",
   "metadata": {},
   "outputs": [],
   "source": [
    "#>>>RUN: CTA5.1-runcell01\n",
    "\n",
    "#Run this cell to import the relevant libraries for this notebook.\n",
    "from vpython import *  #Here we're importing all the vpython package\n",
    "from simulate_motion import simulate_motion\n",
    "from cyclotron import cyclotron"
   ]
  },
  {
   "cell_type": "code",
   "execution_count": null,
   "id": "ab9e1e16",
   "metadata": {},
   "outputs": [],
   "source": [
    "#>>>COMPLETE: CTA5.1-runcell02\n",
    "\n",
    "def Lorentz_F(q,v,E,B):\n",
    "    # calculates and returns the Lorentz force given:\n",
    "    # q= charge of object, v= velocity vector, E= Electric field vector and B= Magnetic field vector\n",
    "    # In vpython, cross(A,B) returns the cross product A x B\n",
    "    \n",
    "    #F = \\\\FILL IN\n",
    "    F = q*(E+cross(v,B))\n",
    "    return F\n",
    "\n",
    "def update_v(vi,m,F,dt):\n",
    "    # calculates and returns the final velocity vector after a short time-step, i.e. v(t+dt) given:\n",
    "    # vi = initial velocity v(t), m = mass, F = net force on the object and dt = time step\n",
    "    \n",
    "    #vf = \\\\FILL IN\n",
    "    vf = vi + F*dt/m\n",
    "    return vf\n",
    "\n",
    "def update_position(ri,vi,m,F,dt):\n",
    "    # calculates and returns the final position vector after a short time-step, i.e. r(t+dt) given:\n",
    "    # ri = initial position v(t), vi = initial velocity v(t), m = mass, F = net force on the object and dt = time step\n",
    "    \n",
    "    #rf = \\\\FILL IN\n",
    "    rf = ri + update_v(vi,m,F,dt)*dt \n",
    "    return rf\n",
    "\n",
    "fns = [Lorentz_F,update_v,update_position]"
   ]
  },
  {
   "cell_type": "markdown",
   "id": "1c3252b3",
   "metadata": {},
   "source": [
    "<h3>What it's doing</h3>\n",
    "\n",
    "The code above defines three functions that do the following to calculate the trajectory of a charged object:\n",
    "\n",
    "1- <b>Lorentz_F(q,v,E,B)</b>: Returns the Lorentz force on a point charge q with velocity $\\vec{\\mathbf{v}}$ (in the code v) due to both E and B fields\n",
    "\n",
    "2- <b>update_v(vi,m,F,dt)</b>: Returns the velocity at time (t+dt), $\\vec{\\mathbf{v}}(t+dt)$ (in the code vf), given the velocity at time t, $\\vec{\\mathbf{v}}(t)$ (in the code vi)\n",
    "\n",
    "3- <b>update_position(ri,vi,m,F,dt)</b>: Returns the position $\\vec{\\mathbf{r}}(t+dt)$ (in the code rf) given $\\vec{\\mathbf{r}}(t)$ and $\\vec{\\mathbf{v}}(t)$ (in the code ri)\n",
    "\n",
    "Each function is missing only one line of code where you will implement the equations provided below. "
   ]
  },
  {
   "cell_type": "markdown",
   "id": "168eaf49",
   "metadata": {},
   "source": [
    "<a name='section_5_2'></a>\n",
    "\n",
    "<h2 style=\"border:1px; border-style:solid; padding: 0.25em; color: #FFFFFF; background-color: #90409C\">CTA5.2 Visualizations</h2>  \n",
    "\n",
    "| [5.1 Completing the Code](#section_5_1) | [5.2 Visualizations](#section_5_2) |  [5.3 Background](#section_5_3) | [5.4 Additional Tasks](#section_5_4) |"
   ]
  },
  {
   "cell_type": "markdown",
   "id": "3dff72e9",
   "metadata": {},
   "source": [
    "<h3>Test: Motion in a uniform E field</h3>\n",
    "\n",
    "We will now test the correctness of the functions you built by using them to track the motion of a charged object in a uniform electric field. \n",
    " \n",
    "Run the cell below to start the simulation of a positive charged object inside a uniform $\\vec{\\mathbf{E}} = E_y \\;\\hat{\\mathbf{j}} $. Use the following values as a starting point:\n",
    "\n",
    "$q = 1 \\;nC,\n",
    "m = 10^{-27}\\; kg,\n",
    "v_x = 4 \\; m/s,\n",
    "v_y = 0,\n",
    "v_z = 0, $ (particle initially moving along the x-axis only),\n",
    "$E_y = 1\\; N/C,\n",
    "B_z = 0 \\;T, \n",
    "total time = 20 \\;s$\n",
    "\n",
    "<h4>Question 1</h4>\n",
    "Does the simulation give you the expected behavior? Explain. (If not, review your code. As usual, reach out if you need help!)."
   ]
  },
  {
   "cell_type": "code",
   "execution_count": null,
   "id": "12c6241c",
   "metadata": {},
   "outputs": [],
   "source": [
    "#>>>RUN: CTA5.2-runcell01\n",
    "# Test\n",
    "\n",
    "simulate_motion(q=1e-9,m=1e-27,vx=4,vy=0, vz=0, Ey=1,Bz=0,total_time = 20,fns=fns)"
   ]
  },
  {
   "cell_type": "markdown",
   "id": "7a3f2cd3",
   "metadata": {},
   "source": [
    "You can explore how the path changes if you:\n",
    "\n",
    "<ul>\n",
    "    <li>flip the sign of some subset of {velocity, E field, charge}</li>\n",
    "    <li>Increase or decrease the initial speed of the charge and/or the field strength, keeping Bz =0, vy=vz=0</li>\n",
    "</ul>"
   ]
  },
  {
   "cell_type": "code",
   "execution_count": null,
   "id": "e4164e55",
   "metadata": {
    "scrolled": false
   },
   "outputs": [],
   "source": [
    "#>>>RUN: CTA5.2-runcell02\n",
    "# Explore\n",
    "\n",
    "simulate_motion(q=1e-9,m=1e-27,vx=4,vy=0,vz=0,Ey= -1,Bz= 0 ,total_time = 20,fns=fns)"
   ]
  },
  {
   "cell_type": "markdown",
   "id": "f6513436",
   "metadata": {},
   "source": [
    "<h3>Motion in a uniform B field</h3>\n",
    "\n",
    "Now we'll run the simulation of a  charged object inside a uniform perpindicular magnetic field. Use the following values as a starting point:\n",
    "\n",
    "$q = 1\\;nC,\n",
    "m = 10^{-27} \\;kg,\n",
    "v_x = 4\\; m/s, vy=0, vz=0\n",
    "E_y = 0\\; N/C,\n",
    "B_z = 1\\; T, \n",
    "total time = 10s$\n",
    "\n",
    "<h4>Question 2</h4>\n",
    "Does the simulation give you the expected behavior? Explain. (If not, review your code. As usual, reach out if you need help!)."
   ]
  },
  {
   "cell_type": "code",
   "execution_count": null,
   "id": "6bed2e50",
   "metadata": {},
   "outputs": [],
   "source": [
    "#>>>RUN: CTA5.2-runcell03\n",
    "# Test\n",
    "\n",
    "simulate_motion(q=1e-9,m=1e-27,vx=4,vy=0,vz=0,Ey=0,Bz=1,total_time = 10,fns=fns)"
   ]
  },
  {
   "cell_type": "markdown",
   "id": "faf2ecbd",
   "metadata": {},
   "source": [
    "Note: This simulation is a view from the +z-axis so the magnetic field vectors are pointing towards you. You can change the view of the visualization by right-clicking with the mouse.\n",
    "\n",
    "\n",
    "We encourage you to explore different configurations.\n",
    "\n",
    "<b>I</b> - Keeping Ey =0 and vy=vz=0, examine how the path changes if you:\n",
    "\n",
    "<ul>\n",
    "    <li> flip the sign of some subset of {vx, B field, charge}, </li>\n",
    "    <li> increase or decrease the initial vx of the charge and/or the field strength, </li>\n",
    "</ul>\n",
    "\n",
    "<b>II</b> - Predict the motion of the charge when the initial velocity has a y-component keeping Ey=0 and vz=0. Run the simulation and check your prediction\n",
    "\n",
    "<b>III</b> - Predict the motion of the charge when the initial velocity has a z-component keeping Ey=0. Run the simulation and check your prediction "
   ]
  },
  {
   "cell_type": "code",
   "execution_count": null,
   "id": "d76fbee2",
   "metadata": {},
   "outputs": [],
   "source": [
    "#>>>RUN: CTA5.2-runcell04\n",
    "# Explore\n",
    "\n",
    "simulate_motion(q=1e-9,m=1e-27,vx=4,vy=0,vz=0, Ey=0,Bz=1,total_time = 10,fns=fns)"
   ]
  },
  {
   "cell_type": "markdown",
   "id": "03ca403a",
   "metadata": {},
   "source": [
    "<h3>Motion in both uniform E and B fields</h3>\n",
    "\n",
    "Now that we know your code simulates the charged particle correctly, let's explore what happens if you switch on both fields at the same time. Use the given values and check what happens:\n",
    "\n",
    "$q = 1\\;nC,\n",
    "m = 10^{-27} \\;kg,\n",
    "v_x = 4 \\;m/s, vy=0, vz = 0,\n",
    "E_y = 1\\; N/C, \n",
    "B_z = 1 \\;T, \n",
    "total time = 20\\;s$\n",
    "\n",
    "P.S. Details of the cool motion you should see are beyond what we studied in class."
   ]
  },
  {
   "cell_type": "code",
   "execution_count": null,
   "id": "b8e9c2f5",
   "metadata": {},
   "outputs": [],
   "source": [
    "#>>>RUN: CTA5.2-runcell05\n",
    "#Explore\n",
    "\n",
    "simulate_motion(q=1e-9,m=1e-27,vx=4,vy=0,vz=0, Ey=1,Bz=1,total_time = 20,fns=fns)"
   ]
  },
  {
   "cell_type": "markdown",
   "id": "c446b117",
   "metadata": {},
   "source": [
    "<h4>Question 3</h4>\n",
    "\n",
    "What parameters will you use to make the object move with a constant velocity? Explain your reasoning and provide a screenshot of the straight line path using the next cell."
   ]
  },
  {
   "cell_type": "code",
   "execution_count": null,
   "id": "09a50137",
   "metadata": {},
   "outputs": [],
   "source": [
    "#>>>RUN: CTA5.2-runcell06\n",
    "# Change Ey and Bz as needed to make the particle move with constant velocity\n",
    "\n",
    "simulate_motion(q=1e-9,m=1e-27,vx=4,vy=0,vz=0, Ey=4,Bz=1,total_time = 20,fns=fns)"
   ]
  },
  {
   "cell_type": "markdown",
   "id": "5b31f9a6",
   "metadata": {},
   "source": [
    "<a name='section_5_3'></a>\n",
    "\n",
    "<h2 style=\"border:1px; border-style:solid; padding: 0.25em; color: #FFFFFF; background-color: #90409C\">CTA5.3 Background</h2>  \n",
    "\n",
    "| [5.1 Completing the Code](#section_5_1) | [5.2 Visualizations](#section_5_2) |  [5.3 Background](#section_5_3) | [5.4 Additional Tasks](#section_5_4) |"
   ]
  },
  {
   "cell_type": "markdown",
   "id": "c55d6f63",
   "metadata": {},
   "source": [
    "When a charged object is within a region of Electric and/or Magnetic fields, the net force on it can be calculated as:\n",
    "\n",
    "$$\\vec{\\mathbf{F}} = q\\vec{\\mathbf{E}} + q\\vec{\\mathbf{v}} \\times \\vec{\\mathbf{B}}$$\n",
    "\n",
    "This net electromagnetic force is called the Lorentz force.\n",
    "\n",
    "To find the trajectory of the charged object within the field(s), we need to utilize Newton's 2nd law to examine the effect of the Lorentz force on the momentum (and hence velocity) of the object.\n",
    " \n",
    "$$\\vec{\\mathbf{p}_f} = \\vec{\\mathbf{p}_i} + \\int_{t_i}^{t_f} \\vec{\\mathbf{F}} dt$$\n",
    "\n",
    "One way to build a simulation that tracks the trajectory of the system is to divide the time interval $(t_f - t_i)$ into small time-steps $dt$ such that the we can treat the force as a constant during each short time interval. Then we can update the velocity and position vector after each time-step as follows [for more details about numerical integration, check <a href=\"https://web.mit.edu/10.001/Web/Course_Notes/Differential_Equations_Notes/node3.html\">here</a>]:\n",
    "\n",
    "$$\\vec{\\mathbf{v}}(t+dt) = \\vec{\\mathbf{v}}(t) + \\dfrac{\\vec{\\mathbf{F}}}{m}dt$$\n",
    "\n",
    "$$\\vec{\\mathbf{r}}(t+dt) = \\vec{\\mathbf{r}}(t) + \\vec{\\mathbf{v}}(t+dt) dt$$"
   ]
  },
  {
   "cell_type": "markdown",
   "id": "319ea096",
   "metadata": {},
   "source": [
    "<a name='section_5_4'></a>\n",
    "\n",
    "\n",
    "<h2 style=\"border:1px; border-style:solid; padding: 0.25em; color: #FFFFFF; background-color: #90409C\">CTA5.4 Additional Tasks</h2>  \n",
    "\n",
    "| [5.1 Completing the Code](#section_5_1) | [5.2 Visualizations](#section_5_2) |  [5.3 Background](#section_5_3) | [5.4 Additional Tasks](#section_5_4) |"
   ]
  },
  {
   "cell_type": "code",
   "execution_count": null,
   "id": "bd532b77",
   "metadata": {},
   "outputs": [],
   "source": [
    "#>>>RUN: CTA5.4-runcell01\n",
    "\n",
    "cyclotron(E=0.3,B=4)"
   ]
  },
  {
   "cell_type": "markdown",
   "id": "383a516a",
   "metadata": {},
   "source": [
    "<h3>What it's doing: cyclotron motion</h3>\n",
    "\n",
    "A cyclotron is a device used to accelerate charges using a region with uniform E field. As soon as the object leaves the E-field region, it enters a uniform magnetic field that rotates it such that it goes through the E-field region again to get accelerated more. The E field has to switch direction every half cycle as the object keeps entering it with alternating velocity directions. Run the cell below to simulate the motion inside a cyclotron.\n",
    "<img src=\"images/cyclotron.gif\" width=500 />"
   ]
  },
  {
   "cell_type": "markdown",
   "id": "7e504fa1",
   "metadata": {},
   "source": [
    "<h4>Question 4</h4>\n",
    "\n",
    "a) If you want the charged particle to pass through the accelerating middle region as many times as possible, would you increase or decrease the magnitude of B? Explain your logic and verify using the simulation.\n",
    "\n",
    "\n",
    "b) As the particle gains more speed each cycle, does the period/frequency of one cycle change from one cycle to another? Explain your logic."
   ]
  }
 ],
 "metadata": {
  "kernelspec": {
   "display_name": "802cvmfs",
   "language": "python",
   "name": "802cvmfs"
  },
  "language_info": {
   "codemirror_mode": {
    "name": "ipython",
    "version": 3
   },
   "file_extension": ".py",
   "mimetype": "text/x-python",
   "name": "python",
   "nbconvert_exporter": "python",
   "pygments_lexer": "ipython3",
   "version": "3.9.13"
  }
 },
 "nbformat": 4,
 "nbformat_minor": 5
}
