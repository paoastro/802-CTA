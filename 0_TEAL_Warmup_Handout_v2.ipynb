{
 "cells": [
  {
   "cell_type": "markdown",
   "metadata": {},
   "source": [
    "<h1 style=\"color: #90409C\"><ins>COMPUTATIONAL THINKING ACTIVITY 0:</ins>\n",
    "    \n",
    "Introduction to Jupyter Notebooks and Python</h1>"
   ]
  },
  {
   "cell_type": "markdown",
   "metadata": {},
   "source": [
    "<h4 style=\"color: #90409C\"><i>This notebook was authored by the ES.802 + 8.02 Course Team, Copyright 2023 MIT All Rights Reserved.</i></h4>\n",
    "\n",
    "<a name='section_0_0'></a>\n",
    "\n",
    "<h2 style=\"border:1px; border-style:solid; padding: 0.25em; color: #FFFFFF; background-color: #90409C\">CTA0.0 Using an Online Notebook</h2>\n",
    "\n",
    "| [0.0 Using an Online Notebook](#section_0_0) | [0.1 Libraries and Settings](#section_0_1) | [0.2 Introduction to Python Syntax](#section_0_2) |"
   ]
  },
  {
   "cell_type": "markdown",
   "metadata": {},
   "source": [
    "<b><font color=\"red\">REMINDER: Save your work!</font></b>"
   ]
  },
  {
   "cell_type": "markdown",
   "metadata": {},
   "source": [
    "<a name='section_0_1'></a>\n",
    "\n",
    "<h2 style=\"border:1px; border-style:solid; padding: 0.25em; color: #FFFFFF; background-color: #90409C\">CTA0.1 Libraries and Settings</h2>\n",
    "\n",
    "| [0.0 Using an Online Notebook](#section_0_0) | [0.1 Libraries and Settings](#section_0_1) | [0.2 Introduction to Python Syntax](#section_0_2) |"
   ]
  },
  {
   "cell_type": "markdown",
   "metadata": {},
   "source": [
    "Start by clicking on the code cell below (the contour will change color) and then on <font color=\"light blue\"><b> Run </b></font> in the top menu to execute it. Do this for each \"RUN\" cell in order to first import the relevant libraries."
   ]
  },
  {
   "cell_type": "markdown",
   "metadata": {},
   "source": [
    "**Importing Libraries:** Before beginning, run the cell below to import the relevant libraries for this notebook.\n"
   ]
  },
  {
   "cell_type": "code",
   "execution_count": 2,
   "metadata": {},
   "outputs": [],
   "source": [
    "#>>>RUN: CTA1.0-runcell01\n",
    "\n",
    "# If you get an error when running this cell, check the kernel on the top right:\n",
    "# it has to be 802cvmfs or 802.\n",
    "\n",
    "from vpython import *  #Here we're importing all the vpython package\n",
    "import matplotlib as plt"
   ]
  },
  {
   "cell_type": "markdown",
   "metadata": {},
   "source": [
    "**Setting Default Figure Parameters:** The following code cell sets default values for figure parameters."
   ]
  },
  {
   "cell_type": "code",
   "execution_count": null,
   "metadata": {},
   "outputs": [],
   "source": [
    "#>>>RUN: CTA1.0-runcell02\n",
    "\n",
    "#set plot resolution\n",
    "%config InlineBackend.figure_format = 'retina'\n",
    "\n",
    "#set default figure parameters\n",
    "plt.rcParams['figure.figsize'] = (9,6)\n",
    "\n",
    "medium_size = 12\n",
    "large_size = 15\n",
    "\n",
    "plt.rc('font', size=medium_size)          # default text sizes\n",
    "plt.rc('xtick', labelsize=medium_size)    # xtick labels\n",
    "plt.rc('ytick', labelsize=medium_size)    # ytick labels\n",
    "plt.rc('legend', fontsize=medium_size)    # legend\n",
    "plt.rc('axes', titlesize=large_size)      # axes title\n",
    "plt.rc('axes', labelsize=large_size)      # x and y labels\n",
    "plt.rc('figure', titlesize=large_size)    # figure title"
   ]
  },
  {
   "cell_type": "markdown",
   "metadata": {},
   "source": [
    "<a name='section_0_2'></a>\n",
    "\n",
    "<h2 style=\"border:1px; border-style:solid; padding: 0.25em; color: #FFFFFF; background-color: #90409C\">CTA0.2 Introduction to Python Syntax</h2>  \n",
    "\n",
    "| [0.0 Using an Online Notebook](#section_0_0) | [0.1 Libraries and Settings](#section_0_1) | [0.2 Introduction to Python Syntax](#section_0_2) |"
   ]
  },
  {
   "cell_type": "markdown",
   "metadata": {},
   "source": [
    "In the sections below, you will learn some basic syntax in Python, the programming language used in these simulations. "
   ]
  },
  {
   "cell_type": "markdown",
   "metadata": {},
   "source": [
    "<hr style=\"height: 1px;\">\n",
    "\n",
    "<h3>1.  Indentation</h3>\n",
    "\n",
    "Indentation is mandatory in Python to define the blocks of statements. The number of spaces must be uniform in a block of code. </font><b> When you uncomment a line (as we will ask below and in the problems), be sure the indentation (= the number of spaces) is consistent with the rest of the block</b></font> ."
   ]
  },
  {
   "cell_type": "markdown",
   "metadata": {},
   "source": [
    "<hr style=\"height: 1px;\">\n",
    "\n",
    "<h3> 2.  Basic operations</h3>\n",
    "\n",
    "<h4> a) Addition, subtraction, multiplication and division</h4>  \n",
    "\n",
    "You can type simple operations in the cells.  The example below shows: 2+3.Click on the code cell, and then \n",
    "\n",
    " click <font color=\"blue\"><b>Run</b></font> in the top menu: the output will appear in a new cell  below, identified by <b><font color=\"red\">Out[ ] = </font></b>.\n"
   ]
  },
  {
   "cell_type": "code",
   "execution_count": null,
   "metadata": {},
   "outputs": [],
   "source": [
    "#>>>RUN: CTA1.1-runcell01\n",
    "\n",
    "#You can delete 2+3 and enter other statements.\n",
    "#Try for example:  5-7, 6/2, 3*4, 6%2, 6/5. \n",
    "#Always click Run to see the output and make sense of it.\n",
    "\n",
    "2+3"
   ]
  },
  {
   "cell_type": "markdown",
   "metadata": {},
   "source": [
    "<h4>b) Exponentiation:</h4>\n",
    "\n",
    "This one is tricky!!  For $2^3$ type 2**3 and run it!\n"
   ]
  },
  {
   "cell_type": "code",
   "execution_count": null,
   "metadata": {},
   "outputs": [],
   "source": [
    "#>>>RUN: CTA1.1-runcell02\n",
    "\n",
    "2**3"
   ]
  },
  {
   "cell_type": "markdown",
   "metadata": {},
   "source": [
    "<hr style=\"height: 1px;\">\n",
    "\n",
    "<h3> 3. Storing information in variables</h3>\n",
    "\n",
    "Variables provide a way to associate names with objects.\n",
    "<ul>\n",
    "\n",
    "<li>Example 1: The statement <b>a = 5.2</b>  binds the float (the data type used to represent real numbers) <b>5.2</b> to the variable <b>a</b>.</li>\n",
    "\n",
    "<li>Example 2: The statement <b>b = \"Hello MIT\"</b> binds the string <b>Hello MIT</b> to the variable <b>b</b>. </li>\n",
    "</ul>\n",
    "\n",
    "<b>Note 1:</b> the quotation marks are used to identify the object as a string, an object used to represent characters.\n",
    "\n",
    "<b>Note 2:</b> upper and lowercase letters are different in Python! If you define <b>a = 5.2</b>, you are not binding A to the same value."
   ]
  },
  {
   "cell_type": "markdown",
   "metadata": {},
   "source": [
    "<hr style=\"height: 1px;\">\n",
    "\n",
    "<h3> 4. Print statement </h3>\n",
    "\n",
    "The <b>print( ) function </b> shows as output anything you put in between the parenthesis. Let's try this function. Type in the cell below:\n",
    "\n",
    "<ul>   \n",
    "    <li><b>a = 5.2</b></li>\n",
    "    <li><b>b = \"Hello MIT\"</b></li>    \n",
    "</ul>\n",
    "\n",
    "Click <b>Run</b>: nothing happens! \n"
   ]
  },
  {
   "cell_type": "code",
   "execution_count": null,
   "metadata": {},
   "outputs": [],
   "source": [
    "#>>>RUN: CTA1.1-runcell03\n",
    "\n",
    "a = 5.2\n",
    "b = \"Hello MIT\""
   ]
  },
  {
   "cell_type": "markdown",
   "metadata": {},
   "source": [
    "If you want to know what is stored in the variables <b>a</b> and <b>b</b> just use the print( ) function typing in the cell the following statements:\n",
    "\n",
    "<ul> \n",
    "    <li><b>print(a)</b></li>\n",
    "    <li><b>print(b)</b></li>\n",
    "</ul>\n",
    "    \n",
    "and run it again."
   ]
  },
  {
   "cell_type": "code",
   "execution_count": null,
   "metadata": {},
   "outputs": [],
   "source": [
    "#>>>RUN: CTA1.1-runcell04\n",
    "\n",
    "print(a)\n",
    "print(b)"
   ]
  },
  {
   "cell_type": "markdown",
   "metadata": {},
   "source": [
    "You can also be more explicit by adding some text to describe what you are printing. <b> Note:</b> you must put the text between quotation marks as follows:\n",
    "\n",
    "<ul> \n",
    "    <li><b>print( \"This is what I stored in a:\", a )</b></li>\n",
    "</ul>\n",
    "\n",
    "Also, note that we separate the two arguments inside the parenthesis by a comma."
   ]
  },
  {
   "cell_type": "code",
   "execution_count": null,
   "metadata": {},
   "outputs": [],
   "source": [
    "#>>>RUN: CTA1.1-runcell05\n",
    "\n",
    "print(\"This is what I stored in a:\",a)"
   ]
  },
  {
   "cell_type": "markdown",
   "metadata": {},
   "source": [
    "<hr style=\"height: 1px;\">\n",
    "\n",
    "<h3>5. Storing information in a list.</h3>\n",
    "\n",
    "A list is an ordered sequence of values, where each value is identified by an index.\n",
    "Lists are written by enclosing a comma-separated list of elements within square parentheses.\n",
    "\n",
    "Example: Store the integer numbers 2, -3, and 8 in the list call MyList\n",
    " \n",
    "<ul>\n",
    "    <li><b>MyList = [ 2, -3, 8]</b></li>\n",
    "</ul>\n",
    "\n",
    "You can print to the screen all the list by typing:\n",
    "<ul>\n",
    "    <li><b>print( MyList )</b></li>\n",
    "</ul>\n",
    "\n",
    "You can also print the elements of the list. In Python, the index of a list starts at 0. In this example, MyList has a length of 3 so the index starts at 0 and ends at 2. Check it by typing:\n",
    "\n",
    "<ul>\n",
    "    <li>print(\"The first element of MyList is:\" , MyList[ 0 ] )</li>\n",
    "    <li>print(\"The second element of MyList is:\" , MyList[ 1 ] )</li>\n",
    "    <li>print(\"The third element of MyList is:\" , MyList[ 2 ] )</li>\n",
    "</ul>\n",
    "\n",
    "Click <b>Run</b>.\n"
   ]
  },
  {
   "cell_type": "code",
   "execution_count": null,
   "metadata": {},
   "outputs": [],
   "source": [
    "#>>>RUN: CTA1.1-runcell06\n",
    "\n",
    "MyList = [ 2, -3, 8]\n",
    "\n",
    "print( MyList )\n",
    "\n",
    "print(\"The first element of MyList is:\" , MyList[ 0 ] )\n",
    "print(\"The second element of MyList is:\" , MyList[ 1 ] )\n",
    "print(\"The third element of MyList is:\" , MyList[ 2 ] )"
   ]
  },
  {
   "cell_type": "markdown",
   "metadata": {},
   "source": [
    "<hr style=\"height: 1px;\">\n",
    "\n",
    "<h3> 6. Adding explanatory text to your code </h3>\n",
    "\n",
    "Anything preceeded by the hash symbol # is a \"comment\", meaning that it is not interpreted by Python. See an example below:\n"
   ]
  },
  {
   "cell_type": "code",
   "execution_count": null,
   "metadata": {},
   "outputs": [],
   "source": [
    "#>>>RUN: CTA1.1-runcell07\n",
    "\n",
    "NewList = [1,2,3,4]  # Here is my new list\n",
    "\n",
    "#I will print the 3rd element of the list and I will NOT print the 1st element\n",
    "\n",
    "print(\"The 3rd element\", NewList[2])\n",
    "#print(\"The 1st element\", NewList[0]))\n",
    "print(\"Note that nothing behind the # is executed\")\n",
    "\n",
    "# Do not forget to Click Run"
   ]
  },
  {
   "cell_type": "markdown",
   "metadata": {},
   "source": [
    "<hr style=\"height: 1px;\">\n",
    "\n",
    "<h3>7. Functions in Python  </h3>\n",
    "\n",
    "Python comes with a large library of functions, print( ) is one of them. You can also write your own function!</font><b> We will not ask you to write a function, just to modify what is in the body: be careful with indentation when you do so!</b></font>\n",
    "\n",
    "A function is a generic piece of code that can be used repeatedly. It takes a number of parameters, then it executes the code in the body of the function  until either a return statement is encountered, in which case the value of the expression following the return becomes the value of the function invocation, or there are no more statements to execute, in which case the function returns the value None. \n",
    "\n",
    "We now write as an example a function that has a number as input parameter and that returns a value equal to the square of the number. We will call this function square( ). The syntax is explained in the cell below. To use the function you need to call it with actual parameter/s, as show in the example. \n",
    "    \n",
    "</font><b>Notice the indentation. We do not define x inside the function: x is passed to it when we call it.\n",
    "The body assumes that x is known </b></font>"
   ]
  },
  {
   "cell_type": "code",
   "execution_count": null,
   "metadata": {},
   "outputs": [],
   "source": [
    "#>>>RUN: CTA1.1-runcell08\n",
    "\n",
    "def square(x): # name of function (list of formal parameters)\n",
    "    \"\"\"This function returns the square of a float or integer x\"\"\" # This is a docstring, it provides\n",
    "    # documentation about the function\n",
    "    return x**2  # body of the function\n",
    "\n",
    "z = square(6) # call the function binding the actual parameter 6 to the formal parameter x\n",
    "print(z)"
   ]
  },
  {
   "cell_type": "markdown",
   "metadata": {},
   "source": [
    "Self-check. Now try to run the cell below: what happens? How would you fix it?"
   ]
  },
  {
   "cell_type": "code",
   "execution_count": null,
   "metadata": {},
   "outputs": [],
   "source": [
    "#>>>RUN: CTA1.1-runcell09\n",
    "\n",
    "def square(x): # name of function (list of formal parameters)\n",
    "    \"\"\"This function returns the square of a float or integer x\"\"\" # This is a docstring, it provides\n",
    "    # documentation about the function\n",
    "return x**2  # body of the function\n",
    "\n",
    "z = square(6) # call the function binding the actual parameter 6 to the formal parameter x\n",
    "print(z)"
   ]
  },
  {
   "cell_type": "markdown",
   "metadata": {},
   "source": [
    "<hr style=\"height: 1px;\">\n",
    "\n",
    "<h3>8. Running a visualization</h3>\n",
    "\n",
    "This section guides you to write a function that has a 3D vector as argument \n",
    "\n",
    "$$\\vec{\\mathbf{V}} = (v_x,v_y,v_x).$$ \n",
    "\n",
    "It  returns the components of the relative unit vector \n",
    "\n",
    "$$\\hat{\\mathbf{u}} = (u_x,u_y,u_x) = \\frac{\\vec V}{|\\vec V|}.$$ \n",
    "\n",
    "The code below defines a function called `unit_vector` that takes a vector as input and returns the corresponding unit vector. The unit vector has a magnitude of 1 and points in the same direction as the original vector.\n",
    "\n",
    "The input vector is provided as a list `[v_x,v_y,v_z]`, where `v_x`, `v_y`, and `v_z` represent the x, y, and z components of the vector, respectively.\n",
    "\n",
    "The first step of the function is to calculate the magnitude of the input vector using the formula `sqrt(v_x^2 + v_y^2 + v_z^2)`.\n",
    "\n",
    "Next, the x, y, and z components of the unit vector are computed by dividing the x, y, and z components of the input vector by its magnitude. These values are then returned as a list `[u_x,u_y,u_z]`.\n"
   ]
  },
  {
   "cell_type": "code",
   "execution_count": null,
   "metadata": {},
   "outputs": [],
   "source": [
    "#>>>RUN: CTA1.1-runcell10\n",
    "\n",
    "#Run this cell to import the relevant libraries for this notebook.\n",
    "from vpython import *  #Here we're importing all the vpython package"
   ]
  },
  {
   "cell_type": "code",
   "execution_count": null,
   "metadata": {},
   "outputs": [],
   "source": [
    "#>>>RUN: CTA1.1-runcell11\n",
    "\n",
    "def unit_vector(V):\n",
    "    \"\"\"The function takes the following  input:\n",
    "    V = [v_x,v_y,v_z], a list of the x,y & z components of a vector V of non-zero length \n",
    "    It returns [u_x,u_y,u_z], a list the x,y & z components of the unit vector in the direction of V.\"\"\"\n",
    "\n",
    "    #magnitude = FILL IN \n",
    "    magnitude = sqrt(V[0]**2 + V[1]**2 + V[2]**2)\n",
    "    \n",
    "    # Second: calculate the components of the unit vector\n",
    "    # Remember, the unit vector is given by a vector divided by its magnitude\n",
    "    \n",
    "    #u_x = FILL IN\n",
    "    #u_y = FILL IN\n",
    "    #u_z = FILL IN\n",
    "    \n",
    "    u_x = V[0]/magnitude\n",
    "    u_y = V[1]/magnitude\n",
    "    u_z = V[2]/magnitude\n",
    "       \n",
    "    return ([u_x,u_y,u_z]) # return the components of the unit vector as a list"
   ]
  },
  {
   "cell_type": "code",
   "execution_count": null,
   "metadata": {},
   "outputs": [],
   "source": [
    "#>>>RUN: CTA1.1-runcell12\n",
    "\n",
    "# Basic manual tests. Do you get the expected output?\n",
    "\n",
    "print(\"Test:\", unit_vector([3,0,0]),  \"Expected output:\", [1.0, 0.0, 0.0])\n",
    "print(\"Test:\", unit_vector([0,3,0]),  \"Expected output:\", [0.0, 1.0, 0.0])\n",
    "print(\"Test:\", unit_vector([0,0,3]),  \"Expected output:\", [0.0, 1.0, 0.0])\n",
    "\n",
    "a = unit_vector([1,1,0])\n",
    "print(\"Test:\", a, \"Expected output:\", [0.7071067811865475, 0.7071067811865475, 0.0])\n",
    "print(\"Test:\", sqrt(a[0]**2 + a[1]**2 + a[2]**2),  \"Expected output: close to 1 (analytically it is 1)\")\n",
    "\n",
    "b = unit_vector([1,2,3])\n",
    "print(\"Test:\", b, \"Expected output:\", [0.2672612419124244, 0.5345224838248488, 0.8017837257372732])\n",
    "print(\"Test:\", sqrt(b[0]**2 + b[1]**2 + b[2]**2),  \"Expected output: close to 1 (analytically it is 1)\")"
   ]
  },
  {
   "cell_type": "markdown",
   "metadata": {},
   "source": [
    "Now run the cell below: it defines the function draw_vector to draw a vector and relative unit vector as graphical objects. Read only the docstring (in red). You do not need to read and understand the body of the function, but you are welcome to do so!"
   ]
  },
  {
   "cell_type": "code",
   "execution_count": null,
   "metadata": {},
   "outputs": [],
   "source": [
    "#>>>RUN: CTA1.2-runcell13\n",
    "\n",
    "\n",
    "def canvas_with_instructions():\n",
    "    scene = canvas() \n",
    "    s = \"Rotate the camera by dragging with the right mouse button,\\n\"\n",
    "    s += \"To zoom, drag with the left+right mouse buttons or use the mouse pad.\\n\"\n",
    "    s += \"Touch screen: pinch/extend to zoom, swipe or two-finger rotate.\"\n",
    "    scene.caption = s\n",
    "    return scene\n",
    "                \n",
    "\n",
    "def draw_vector(V):\n",
    "    \"\"\"The function takes the following  input:\n",
    "    V = [v_x,v_y,v_z], a list of the x,y & z components of a vector V of non-zero length\n",
    "    and it creates a canvas representing the vector in green and the relative unit vector in red\n",
    "    Both vectors have the tail in the center of the canvas, at position (0,0,0)\"\"\"\n",
    "    scene = canvas_with_instructions() \n",
    "    Varrow = arrow(pos = vector(0,0,0), axis = vector(V[0], V[1],V[2]), shaftwidth = 0.05, color = color.green)\n",
    "    u = unit_vector(V)  # Call the function unit_vector on the instance vector V\n",
    "    uarrow = arrow(pos = vector(0,0,0), axis = vector(u[0], u[1],u[2]), shaftwidth=0.07, color = color.red)\n",
    "    \n",
    "    # Draw the (x,y,z) coordinate system center at the center of the rod - label (0,0,0)\n",
    "    a=1.                       #length of the (x,y,z) axis\n",
    "    arrow(pos=vector(0,0,0),axis=vector(a/2,0,0), shaftwidth=0.04, color=color.white)\n",
    "    arrow(pos=vector(0,0,0),axis=vector(0,a/2,0), shaftwidth=0.04, color=color.white)\n",
    "    arrow(pos=vector(0,0,0),axis=vector(0,0,a/2), shaftwidth=0.04, color=color.white)\n",
    "\n",
    "    label(pos=vector(0,0,0), xoffset=-.5,yoffset=-0.5, zoffset=-.5,text='O',\n",
    "      box=False,background=color.white,opacity=0.06, line=False)\n",
    "    label(pos=vector(a/2,0,0), xoffset=-a/6,yoffset=+a/6, text='x',\n",
    "      box=False,background=color.white,opacity=0.06, line=False) \n",
    "    label(pos=vector(0,a/2,0), xoffset=a/6,yoffset=a/10, text='y',\n",
    "      box=False, background=color.white,opacity=0.06, line= False) \n",
    "    label(pos=vector(0,0,a/2), xoffset=-a/6,yoffset=a/6,zoffset=-a/6, text='z',\n",
    "      box=False, background=color.white,opacity=0.06, line= False) "
   ]
  },
  {
   "cell_type": "markdown",
   "metadata": {},
   "source": [
    "Finally, call the draw_vector function for some test cases to visualize vectors and unit vectors.The function draw_vector takes the following  input:\n",
    "   \n",
    "V = [v_x,v_y,v_z], a list of the x,y & z components of a vector V of non-zero length and it creates a canvas representing the vector in green and the relative unit vector in red. Both vectors have the tail in the center of the canvas, at position (0,0,0)"
   ]
  },
  {
   "cell_type": "code",
   "execution_count": 1,
   "metadata": {},
   "outputs": [
    {
     "ename": "NameError",
     "evalue": "name 'draw_vector' is not defined",
     "output_type": "error",
     "traceback": [
      "\u001b[0;31m---------------------------------------------------------------------------\u001b[0m",
      "\u001b[0;31mNameError\u001b[0m                                 Traceback (most recent call last)",
      "\u001b[0;32m/var/folders/7_/vp0018bj3jgc8hpwf72wzqw40000gt/T/ipykernel_62666/1179706660.py\u001b[0m in \u001b[0;36m<module>\u001b[0;34m\u001b[0m\n\u001b[1;32m      9\u001b[0m \u001b[0mC\u001b[0m \u001b[0;34m=\u001b[0m \u001b[0;34m[\u001b[0m\u001b[0mA\u001b[0m\u001b[0;34m[\u001b[0m\u001b[0;36m0\u001b[0m\u001b[0;34m]\u001b[0m\u001b[0;34m+\u001b[0m \u001b[0mB\u001b[0m\u001b[0;34m[\u001b[0m\u001b[0;36m0\u001b[0m\u001b[0;34m]\u001b[0m\u001b[0;34m,\u001b[0m \u001b[0mA\u001b[0m\u001b[0;34m[\u001b[0m\u001b[0;36m1\u001b[0m\u001b[0;34m]\u001b[0m\u001b[0;34m+\u001b[0m\u001b[0mB\u001b[0m\u001b[0;34m[\u001b[0m\u001b[0;36m1\u001b[0m\u001b[0;34m]\u001b[0m\u001b[0;34m,\u001b[0m \u001b[0mA\u001b[0m\u001b[0;34m[\u001b[0m\u001b[0;36m2\u001b[0m\u001b[0;34m]\u001b[0m\u001b[0;34m+\u001b[0m\u001b[0mB\u001b[0m\u001b[0;34m[\u001b[0m\u001b[0;36m2\u001b[0m\u001b[0;34m]\u001b[0m\u001b[0;34m]\u001b[0m\u001b[0;34m\u001b[0m\u001b[0;34m\u001b[0m\u001b[0m\n\u001b[1;32m     10\u001b[0m \u001b[0;34m\u001b[0m\u001b[0m\n\u001b[0;32m---> 11\u001b[0;31m \u001b[0mdraw_vector\u001b[0m\u001b[0;34m(\u001b[0m\u001b[0mC\u001b[0m\u001b[0;34m)\u001b[0m\u001b[0;34m\u001b[0m\u001b[0;34m\u001b[0m\u001b[0m\n\u001b[0m",
      "\u001b[0;31mNameError\u001b[0m: name 'draw_vector' is not defined"
     ]
    }
   ],
   "source": [
    "#>>>RUN: CTA1.2-runcell14\n",
    "\n",
    "# Call draw_vector on the following vectors:\n",
    "\n",
    "A = [1,4,0]\n",
    "B = [5,-2,0]\n",
    "# C = FILL IN\n",
    "\n",
    "C = [A[0]+ B[0], A[1]+B[1], A[2]+B[2]]\n",
    "\n",
    "draw_vector(C)"
   ]
  },
  {
   "cell_type": "code",
   "execution_count": null,
   "metadata": {},
   "outputs": [],
   "source": []
  }
 ],
 "metadata": {
  "kernelspec": {
   "display_name": " coffea",
   "language": "python",
   "name": "coffea"
  },
  "language_info": {
   "codemirror_mode": {
    "name": "ipython",
    "version": 3
   },
   "file_extension": ".py",
   "mimetype": "text/x-python",
   "name": "python",
   "nbconvert_exporter": "python",
   "pygments_lexer": "ipython3",
   "version": "3.9.13"
  },
  "vscode": {
   "interpreter": {
    "hash": "aee8b7b246df8f9039afb4144a1f6fd8d2ca17a180786b69acc140d282b71a49"
   }
  }
 },
 "nbformat": 4,
 "nbformat_minor": 4
}
