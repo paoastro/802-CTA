{
 "cells": [
  {
   "cell_type": "markdown",
   "metadata": {},
   "source": [
    "<h1 style=\"color: #90409C\"><ins>COMPUTATIONAL THINKING ACTIVITY 0:</ins>\n",
    "    \n",
    "Introduction to Jupyter Notebooks and Python</h1>"
   ]
  },
  {
   "cell_type": "markdown",
   "metadata": {},
   "source": [
    "<h4 style=\"color: #90409C\"><i>This notebook was authored by the ES.802 + 8.02 Course Team, Copyright 2023 MIT All Rights Reserved.</i></h4>\n",
    "\n",
    "<a name='section_0_0'></a>\n",
    "\n",
    "<h2 style=\"border:1px; border-style:solid; padding: 0.25em; color: #FFFFFF; background-color: #90409C\">CTA0.0 Using an Online Notebook</h2>\n",
    "\n",
    "| [0.0 Using an Online Notebook](#section_0_0) | [0.1 Libraries and Settings](#section_0_1) | [0.2 Introduction to Python Syntax](#section_0_2) |"
   ]
  },
  {
   "cell_type": "markdown",
   "metadata": {},
   "source": [
    "<b><font color=\"red\">REMINDERS: the first time you open a notebook remember to select the 802cvmfs or 802 kernel. Save your work!</font></b>"
   ]
  },
  {
   "cell_type": "markdown",
   "metadata": {},
   "source": [
    "<a name='section_0_1'></a>\n",
    "\n",
    "<h2 style=\"border:1px; border-style:solid; padding: 0.25em; color: #FFFFFF; background-color: #90409C\">CTA0.1 Libraries and Settings</h2>\n",
    "\n",
    "| [0.0 Using an Online Notebook](#section_0_0) | [0.1 Libraries and Settings](#section_0_1) | [0.2 Introduction to Python Syntax](#section_0_2) |"
   ]
  },
  {
   "cell_type": "markdown",
   "metadata": {},
   "source": [
    "Start by clicking on the code cell below (the contour will change color) and then on <font color=\"light blue\"><b> Run </b></font> in the top menu to execute it. Do this for each \"RUN\" cell in order to first import the relevant libraries."
   ]
  },
  {
   "cell_type": "markdown",
   "metadata": {},
   "source": [
    "**Importing Libraries:** Before beginning, run the cell below to import the relevant libraries for this notebook.\n"
   ]
  },
  {
   "cell_type": "code",
   "execution_count": null,
   "metadata": {},
   "outputs": [],
   "source": [
    "#>>>RUN: CTA1.0-runcell01\n",
    "\n",
    "from vpython import *  #Here we're importing all the vpython package\n",
    "import matplotlib as plt"
   ]
  },
  {
   "cell_type": "markdown",
   "metadata": {},
   "source": [
    "**Setting Default Figure Parameters:** The following code cell sets default values for figure parameters."
   ]
  },
  {
   "cell_type": "code",
   "execution_count": null,
   "metadata": {},
   "outputs": [],
   "source": [
    "#>>>RUN: CTA1.0-runcell02\n",
    "\n",
    "#set plot resolution\n",
    "%config InlineBackend.figure_format = 'retina'\n",
    "\n",
    "#set default figure parameters\n",
    "plt.rcParams['figure.figsize'] = (9,6)\n",
    "\n",
    "medium_size = 12\n",
    "large_size = 15\n",
    "\n",
    "plt.rc('font', size=medium_size)          # default text sizes\n",
    "plt.rc('xtick', labelsize=medium_size)    # xtick labels\n",
    "plt.rc('ytick', labelsize=medium_size)    # ytick labels\n",
    "plt.rc('legend', fontsize=medium_size)    # legend\n",
    "plt.rc('axes', titlesize=large_size)      # axes title\n",
    "plt.rc('axes', labelsize=large_size)      # x and y labels\n",
    "plt.rc('figure', titlesize=large_size)    # figure title"
   ]
  },
  {
   "cell_type": "markdown",
   "metadata": {},
   "source": [
    "<a name='section_0_2'></a>\n",
    "\n",
    "<h2 style=\"border:1px; border-style:solid; padding: 0.25em; color: #FFFFFF; background-color: #90409C\">CTA0.2 Introduction to Python Syntax</h2>  \n",
    "\n",
    "| [0.0 Using an Online Notebook](#section_0_0) | [0.1 Libraries and Settings](#section_0_1) | [0.2 Introduction to Python Syntax](#section_0_2) |"
   ]
  },
  {
   "cell_type": "markdown",
   "metadata": {},
   "source": [
    "In the sections below, you will learn some basic syntax in Python, the programming language used in these simulations. If you are already familiar with Python you can go to Section 1.2."
   ]
  },
  {
   "cell_type": "markdown",
   "metadata": {},
   "source": [
    "<hr style=\"height: 1px;\">\n",
    "\n",
    "<h3>1.  Indentation</h3>\n",
    "\n",
    "Indentation is mandatory in Python to define the blocks of statements. The number of spaces must be uniform in a block of code. </font><b> When you uncomment a line (as we will ask below and in the problems), be sure the indentation (= the number of spaces) is consistent with the rest of the block</b></font> ."
   ]
  },
  {
   "cell_type": "markdown",
   "metadata": {},
   "source": [
    "<hr style=\"height: 1px;\">\n",
    "\n",
    "<h3> 2.  Basic operations</h3>\n",
    "\n",
    "<h4> a) Addition, subtraction, multiplication and division</h4>  \n",
    "\n",
    "You can type simple operations in the cells.  The example below shows: 2+3.Click on the code cell, and then \n",
    "\n",
    " click <font color=\"blue\"><b>Run</b></font> in the top menu: the output will appear in a new cell  below, identified by <b><font color=\"red\">Out[ ] = </font></b>.\n"
   ]
  },
  {
   "cell_type": "code",
   "execution_count": null,
   "metadata": {},
   "outputs": [],
   "source": [
    "#>>>RUN: CTA1.1-runcell01\n",
    "\n",
    "#You can delete 2+3 and enter other statements.\n",
    "#Try for example:  5-7, 6/2, 3*4, 6%2, 6/5. \n",
    "#Always click Run to see the output and make sense of it.\n",
    "\n",
    "2+3"
   ]
  },
  {
   "cell_type": "markdown",
   "metadata": {},
   "source": [
    "<h4>b) Exponentiation:</h4>\n",
    "\n",
    "This one is tricky!!  For $2^3$ type 2**3 and run it!\n"
   ]
  },
  {
   "cell_type": "code",
   "execution_count": null,
   "metadata": {},
   "outputs": [],
   "source": [
    "#>>>RUN: CTA1.1-runcell02\n",
    "\n",
    "2**3"
   ]
  },
  {
   "cell_type": "markdown",
   "metadata": {},
   "source": [
    "<hr style=\"height: 1px;\">\n",
    "\n",
    "<h3> 3. Storing information in variables</h3>\n",
    "\n",
    "Variables provide a way to associate names with objects.\n",
    "<ul>\n",
    "\n",
    "<li>Example 1: The statement <b>a = 5.2</b>  binds the float (the data type used to represent real numbers) <b>5.2</b> to the variable <b>a</b>.</li>\n",
    "\n",
    "<li>Example 2: The statement <b>b = \"Hello MIT\"</b> binds the string <b>Hello MIT</b> to the variable <b>b</b>. </li>\n",
    "</ul>\n",
    "\n",
    "<b>Note 1:</b> the quotation marks are used to identify the object as a string, an object used to represent characters.\n",
    "\n",
    "<b>Note 2:</b> upper and lowercase letters are different in Python! If you define <b>a = 5.2</b>, you are not binding A to the same value."
   ]
  },
  {
   "cell_type": "markdown",
   "metadata": {},
   "source": [
    "<hr style=\"height: 1px;\">\n",
    "\n",
    "<h3> 4. Print statement </h3>\n",
    "\n",
    "The <b>print( ) function </b> shows as output anything you put in between the parenthesis. Let's try this function. Type in the cell below:\n",
    "\n",
    "<ul>   \n",
    "    <li><b>a = 5.2</b></li>\n",
    "    <li><b>b = \"Hello MIT\"</b></li>    \n",
    "</ul>\n",
    "\n",
    "Click <b>Run</b>: nothing happens! \n"
   ]
  },
  {
   "cell_type": "code",
   "execution_count": null,
   "metadata": {},
   "outputs": [],
   "source": [
    "#>>>RUN: CTA1.1-runcell03\n",
    "\n",
    "a = 5.2\n",
    "b = \"Hello MIT\""
   ]
  },
  {
   "cell_type": "markdown",
   "metadata": {},
   "source": [
    "If you want to know what is stored in the variables <b>a</b> and <b>b</b> just use the print( ) function typing in the cell the following statements:\n",
    "\n",
    "<ul> \n",
    "    <li><b>print(a)</b></li>\n",
    "    <li><b>print(b)</b></li>\n",
    "</ul>\n",
    "    \n",
    "and run it again."
   ]
  },
  {
   "cell_type": "code",
   "execution_count": null,
   "metadata": {},
   "outputs": [],
   "source": [
    "#>>>RUN: CTA1.1-runcell04\n",
    "\n",
    "print(a)\n",
    "print(b)"
   ]
  },
  {
   "cell_type": "markdown",
   "metadata": {},
   "source": [
    "You can also be more explicit by adding some text to describe what you are printing. <b> Note:</b> you must put the text between quotation marks as follows:\n",
    "\n",
    "<ul> \n",
    "    <li><b>print( \"This is what I stored in a:\", a )</b></li>\n",
    "</ul>\n",
    "\n",
    "Also, note that we separate the two arguments inside the parenthesis by a comma."
   ]
  },
  {
   "cell_type": "code",
   "execution_count": null,
   "metadata": {},
   "outputs": [],
   "source": [
    "#>>>RUN: CTA1.1-runcell05\n",
    "\n",
    "print(\"This is what I stored in a:\",a)"
   ]
  },
  {
   "cell_type": "markdown",
   "metadata": {},
   "source": [
    "<hr style=\"height: 1px;\">\n",
    "\n",
    "<h3>5. Storing information in a list.</h3>\n",
    "\n",
    "A list is an ordered sequence of values, where each value is identified by an index.\n",
    "Lists are written by enclosing a comma-separated list of elements within square parentheses.\n",
    "\n",
    "Example: Store the integer numbers 2, -3, and 8 in the list call MyList\n",
    " \n",
    "<ul>\n",
    "    <li><b>MyList = [ 2, -3, 8]</b></li>\n",
    "</ul>\n",
    "\n",
    "You can print to the screen all the list by typing:\n",
    "<ul>\n",
    "    <li><b>print( MyList )</b></li>\n",
    "</ul>\n",
    "\n",
    "You can also print the elements of the list. In Python, the index of a list starts at 0. In this example, MyList has a length of 3 so the index starts at 0 and ends at 2. Check it by typing:\n",
    "\n",
    "<ul>\n",
    "    <li>print(\"The first element of MyList is:\" , MyList[ 0 ] )</li>\n",
    "    <li>print(\"The second element of MyList is:\" , MyList[ 1 ] )</li>\n",
    "    <li>print(\"The third element of MyList is:\" , MyList[ 2 ] )</li>\n",
    "</ul>\n",
    "\n",
    "Click <b>Run</b>.\n"
   ]
  },
  {
   "cell_type": "code",
   "execution_count": null,
   "metadata": {},
   "outputs": [],
   "source": [
    "#>>>RUN: CTA1.1-runcell06\n",
    "\n",
    "MyList = [ 2, -3, 8]\n",
    "\n",
    "print( MyList )\n",
    "\n",
    "print(\"The first element of MyList is:\" , MyList[ 0 ] )\n",
    "print(\"The second element of MyList is:\" , MyList[ 1 ] )\n",
    "print(\"The third element of MyList is:\" , MyList[ 2 ] )"
   ]
  },
  {
   "cell_type": "markdown",
   "metadata": {},
   "source": [
    "<hr style=\"height: 1px;\">\n",
    "\n",
    "<h3> 6. Adding explanatory text to your code </h3>\n",
    "\n",
    "Anything preceeded by the hash symbol # is a \"comment\", meaning that it is not interpreted by Python. See an example below:\n"
   ]
  },
  {
   "cell_type": "code",
   "execution_count": null,
   "metadata": {},
   "outputs": [],
   "source": [
    "#>>>RUN: CTA1.1-runcell07\n",
    "\n",
    "NewList = [1,2,3,4]  # Here is my new list\n",
    "\n",
    "#I will print the 3rd element of the list and I will NOT print the 1st element\n",
    "\n",
    "print(\"The 3rd element\", NewList[2])\n",
    "#print(\"The 1st element\", NewList[0]))\n",
    "print(\"Note that nothing behind the # is executed\")\n",
    "\n",
    "# Do not forget to Click Run"
   ]
  },
  {
   "cell_type": "markdown",
   "metadata": {},
   "source": [
    "<hr style=\"height: 1px;\">\n",
    "\n",
    "<h3>7. Functions in Python  </h3>\n",
    "\n",
    "Python comes with a large library of functions, print( ) is one of them. You can also write your own function!</font><b> We will not ask you to write a function, just to modify what is in the body: be careful with indentation when you do so!</b></font>\n",
    "\n",
    "A function is a generic piece of code that can be used repeatedly. It takes a number of parameters, then it executes the code in the body of the function  until either a return statement is encountered, in which case the value of the expression following the return becomes the value of the function invocation, or there are no more statements to execute, in which case the function returns the value None. \n",
    "\n",
    "We now write as an example a function that has a number as input parameter and that returns a value equal to the square of the number. We will call this function square( ). The syntax is explained in the cell below. To use the function you need to call it with actual parameter/s, as show in the example. \n",
    "    \n",
    "</font><b>Notice the indentation. We do not define x inside the function: x is passed to it when we call it.\n",
    "The body assumes that x is known </b></font>"
   ]
  },
  {
   "cell_type": "code",
   "execution_count": null,
   "metadata": {},
   "outputs": [],
   "source": [
    "#>>>RUN: CTA1.1-runcell08\n",
    "\n",
    "def square(x): # name of function (list of formal parameters)\n",
    "    \"\"\"This function returns the square of a float or integer x\"\"\" # This is a docstring, it provides\n",
    "    # documentation about the function\n",
    "    return x**2  # body of the function\n",
    "\n",
    "z = square(6) # call the function binding the actual parameter 6 to the formal parameter x\n",
    "print(z)"
   ]
  },
  {
   "cell_type": "markdown",
   "metadata": {},
   "source": [
    "Self-check. Now try to run the cell below: what happens? How would you fix it?"
   ]
  },
  {
   "cell_type": "code",
   "execution_count": null,
   "metadata": {},
   "outputs": [],
   "source": [
    "#>>>RUN: CTA1.1-runcell09\n",
    "\n",
    "def square(x): # name of function (list of formal parameters)\n",
    "    \"\"\"This function returns the square of a float or integer x\"\"\" # This is a docstring, it provides\n",
    "    # documentation about the function\n",
    "return x**2  # body of the function\n",
    "\n",
    "z = square(6) # call the function binding the actual parameter 6 to the formal parameter x\n",
    "print(z)"
   ]
  }
 ],
 "metadata": {
  "kernelspec": {
   "display_name": "802cvmfs",
   "language": "python",
   "name": "802cvmfs"
  },
  "language_info": {
   "codemirror_mode": {
    "name": "ipython",
    "version": 3
   },
   "file_extension": ".py",
   "mimetype": "text/x-python",
   "name": "python",
   "nbconvert_exporter": "python",
   "pygments_lexer": "ipython3",
   "version": "3.9.16"
  },
  "vscode": {
   "interpreter": {
    "hash": "aee8b7b246df8f9039afb4144a1f6fd8d2ca17a180786b69acc140d282b71a49"
   }
  }
 },
 "nbformat": 4,
 "nbformat_minor": 4
}
